{
 "cells": [
  {
   "cell_type": "code",
   "execution_count": 45,
   "metadata": {},
   "outputs": [],
   "source": [
    "def ReadFileIntoList(filename):\n",
    "    with open(filename) as file:\n",
    "        lines = file.readlines()\n",
    "        lines = [line.rstrip() for line in lines]\n",
    "    return lines\n",
    "\n",
    "input = ReadFileIntoList(\"input.txt\")"
   ]
  },
  {
   "cell_type": "code",
   "execution_count": 15,
   "metadata": {},
   "outputs": [],
   "source": [
    "oppositeLettersDict = {\n",
    "    '{':'}',\n",
    "    '(':')',\n",
    "    '<':'>',\n",
    "    '[':']',\n",
    "    '}':'{',\n",
    "    ')':'(',\n",
    "    '>':'<',\n",
    "    ']':'['\n",
    "}"
   ]
  },
  {
   "cell_type": "code",
   "execution_count": 16,
   "metadata": {},
   "outputs": [],
   "source": [
    "def CheckCorrupted(line):\n",
    "    array = []\n",
    "    for letter in line:\n",
    "        if letter in ['(','[','{','<']:\n",
    "            array.append(letter)\n",
    "        else:\n",
    "            oppositeLetter = oppositeLettersDict[letter]\n",
    "            if array[-1] != oppositeLetter:\n",
    "                return True, letter\n",
    "            else:\n",
    "                array.pop(-1)\n",
    "    return False, ''"
   ]
  },
  {
   "cell_type": "code",
   "execution_count": 34,
   "metadata": {},
   "outputs": [],
   "source": [
    "corruptScoreDict = {\n",
    "    ')':3,\n",
    "    '}':1197,\n",
    "    '>':25137,\n",
    "    ']':57\n",
    "}"
   ]
  },
  {
   "cell_type": "markdown",
   "metadata": {},
   "source": [
    "# Solution 1"
   ]
  },
  {
   "cell_type": "code",
   "execution_count": 47,
   "metadata": {},
   "outputs": [
    {
     "name": "stdout",
     "output_type": "stream",
     "text": [
      "Answer is 240123\n"
     ]
    }
   ],
   "source": [
    "sum = 0\n",
    "for line in input:\n",
    "    isCorrupted, letter = CheckCorrupted(line)\n",
    "    if isCorrupted:\n",
    "        sum += corruptScoreDict[letter]\n",
    "\n",
    "print(f\"Answer is {sum}\")"
   ]
  },
  {
   "cell_type": "code",
   "execution_count": 25,
   "metadata": {},
   "outputs": [],
   "source": [
    "def CompleteLine(line):\n",
    "    array = []\n",
    "    for letter in line:\n",
    "        if letter in ['(','[','{','<']:\n",
    "            array.append(letter)\n",
    "        else:\n",
    "            oppositeLetter = oppositeLettersDict[letter]\n",
    "            if array[-1] != oppositeLetter:\n",
    "                print(\"Got error\")\n",
    "            else:\n",
    "                array.pop(-1)\n",
    "    completingArray = []\n",
    "    for i in range(len(array)-1,-1,-1):\n",
    "        completingArray.append(oppositeLettersDict[array[i]])\n",
    "    return completingArray"
   ]
  },
  {
   "cell_type": "code",
   "execution_count": 36,
   "metadata": {},
   "outputs": [],
   "source": [
    "incompleteScoreDict = {\n",
    "    ')':1,\n",
    "    ']':2,\n",
    "    '}':3,\n",
    "    '>':4\n",
    "}"
   ]
  },
  {
   "cell_type": "code",
   "execution_count": 39,
   "metadata": {},
   "outputs": [],
   "source": [
    "def WorkOutLineScore(array):\n",
    "    score = 0\n",
    "    for letter in array:\n",
    "        score = score * 5\n",
    "        score += incompleteScoreDict[letter]\n",
    "    return score"
   ]
  },
  {
   "cell_type": "markdown",
   "metadata": {},
   "source": [
    "# Solution 2"
   ]
  },
  {
   "cell_type": "code",
   "execution_count": 46,
   "metadata": {},
   "outputs": [
    {
     "name": "stdout",
     "output_type": "stream",
     "text": [
      "Answer is 3260812321\n"
     ]
    }
   ],
   "source": [
    "scores = []\n",
    "for line in input:\n",
    "    isCorrupted, letter = CheckCorrupted(line)\n",
    "    if not isCorrupted:\n",
    "        array = CompleteLine(line)\n",
    "        score = WorkOutLineScore(array)\n",
    "        scores.append(score)\n",
    "scores.sort()\n",
    "middleIndex = int((len(scores)-1)/2)\n",
    "ans = scores[middleIndex]\n",
    "print(f\"Answer is {ans}\")"
   ]
  }
 ],
 "metadata": {
  "interpreter": {
   "hash": "6c58e58c9ec934db74b8271ac7d12717e7410b0c81d923f6ab1769be06a0da3a"
  },
  "kernelspec": {
   "display_name": "Python 3.10.0 64-bit ('AoC2021_Day_10': virtualenv)",
   "language": "python",
   "name": "python3"
  },
  "language_info": {
   "codemirror_mode": {
    "name": "ipython",
    "version": 3
   },
   "file_extension": ".py",
   "mimetype": "text/x-python",
   "name": "python",
   "nbconvert_exporter": "python",
   "pygments_lexer": "ipython3",
   "version": "3.10.0"
  },
  "orig_nbformat": 4
 },
 "nbformat": 4,
 "nbformat_minor": 2
}
