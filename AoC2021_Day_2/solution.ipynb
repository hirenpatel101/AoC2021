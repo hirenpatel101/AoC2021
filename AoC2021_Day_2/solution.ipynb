{
 "cells": [
  {
   "cell_type": "code",
   "execution_count": 1,
   "metadata": {},
   "outputs": [],
   "source": [
    "def ReadFileIntoList(filename):\n",
    "    with open(filename) as file:\n",
    "        lines = file.readlines()\n",
    "        lines = [line.rstrip() for line in lines]\n",
    "    return lines"
   ]
  },
  {
   "cell_type": "code",
   "execution_count": 19,
   "metadata": {},
   "outputs": [],
   "source": [
    "input = ReadFileIntoList(\"input.txt\")"
   ]
  },
  {
   "cell_type": "code",
   "execution_count": 20,
   "metadata": {},
   "outputs": [
    {
     "data": {
      "text/plain": [
       "2"
      ]
     },
     "execution_count": 20,
     "metadata": {},
     "output_type": "execute_result"
    }
   ],
   "source": [
    "movement = [line.split(' ')[0] for line in input]\n",
    "value = [int(line.split(' ')[1]) for line in input]"
   ]
  },
  {
   "cell_type": "markdown",
   "metadata": {},
   "source": [
    "# Solution 1"
   ]
  },
  {
   "cell_type": "code",
   "execution_count": 21,
   "metadata": {},
   "outputs": [
    {
     "name": "stdout",
     "output_type": "stream",
     "text": [
      "Current forward movement is 1931\n",
      "Current vertical movement is 953\n",
      "Multiplied is 1840243\n"
     ]
    }
   ],
   "source": [
    "currentForwardsMovement = 0\n",
    "currentVerticalMovement = 0\n",
    "for i in range(len(input)):\n",
    "    currentMovementDirection = movement[i]\n",
    "    currentMovementValue = value[i] \n",
    "    if currentMovementDirection == 'forward':\n",
    "        currentForwardsMovement += currentMovementValue\n",
    "    if currentMovementDirection == 'down':\n",
    "        currentVerticalMovement += currentMovementValue\n",
    "    if currentMovementDirection == 'up':\n",
    "        currentVerticalMovement -= currentMovementValue\n",
    "print(f\"Current forward movement is {currentForwardsMovement}\")\n",
    "print(f\"Current vertical movement is {currentVerticalMovement}\")\n",
    "print(f\"Multiplied is {currentForwardsMovement*currentVerticalMovement}\")"
   ]
  },
  {
   "cell_type": "markdown",
   "metadata": {},
   "source": [
    "# Solution 2"
   ]
  },
  {
   "cell_type": "code",
   "execution_count": 22,
   "metadata": {},
   "outputs": [
    {
     "name": "stdout",
     "output_type": "stream",
     "text": [
      "Current forward movement is 1931\n",
      "Current vertical movement is 894762\n",
      "Multiplied is 1727785422\n"
     ]
    }
   ],
   "source": [
    "currentForwardsMovement = 0\n",
    "currentVerticalMovement = 0\n",
    "aim = 0\n",
    "for i in range(len(input)):\n",
    "    currentMovementDirection = movement[i]\n",
    "    currentMovementValue = value[i] \n",
    "    if currentMovementDirection == 'forward':\n",
    "        currentForwardsMovement += currentMovementValue\n",
    "        currentVerticalMovement += currentMovementValue * aim\n",
    "    if currentMovementDirection == 'down':\n",
    "        aim += currentMovementValue\n",
    "    if currentMovementDirection == 'up':\n",
    "        aim -= currentMovementValue\n",
    "\n",
    "\n",
    "print(f\"Current forward movement is {currentForwardsMovement}\")\n",
    "print(f\"Current vertical movement is {currentVerticalMovement}\")\n",
    "print(f\"Multiplied is {currentForwardsMovement*currentVerticalMovement}\")"
   ]
  }
 ],
 "metadata": {
  "interpreter": {
   "hash": "218354ec3d048481913beb494bd86768e9a99bd647e478e632e5ad0b14de0cec"
  },
  "kernelspec": {
   "display_name": "Python 3.10.0 64-bit ('AoC2021_Day_2': virtualenv)",
   "language": "python",
   "name": "python3"
  },
  "language_info": {
   "codemirror_mode": {
    "name": "ipython",
    "version": 3
   },
   "file_extension": ".py",
   "mimetype": "text/x-python",
   "name": "python",
   "nbconvert_exporter": "python",
   "pygments_lexer": "ipython3",
   "version": "3.10.0"
  },
  "orig_nbformat": 4
 },
 "nbformat": 4,
 "nbformat_minor": 2
}
