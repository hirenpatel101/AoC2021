{
 "cells": [
  {
   "cell_type": "code",
   "execution_count": 1,
   "metadata": {},
   "outputs": [],
   "source": [
    "def ReadFileIntoList(filename):\n",
    "    with open(filename) as file:\n",
    "        lines = file.readlines()\n",
    "        lines = [line.rstrip() for line in lines]\n",
    "    return lines"
   ]
  },
  {
   "cell_type": "code",
   "execution_count": 22,
   "metadata": {},
   "outputs": [],
   "source": [
    "input = ReadFileIntoList(\"input.txt\")"
   ]
  },
  {
   "cell_type": "code",
   "execution_count": 20,
   "metadata": {},
   "outputs": [],
   "source": [
    "import numpy as np\n",
    "import pandas as pd"
   ]
  },
  {
   "cell_type": "code",
   "execution_count": 23,
   "metadata": {},
   "outputs": [],
   "source": [
    "convertedInput = [list(line) for line in input]"
   ]
  },
  {
   "cell_type": "code",
   "execution_count": 114,
   "metadata": {},
   "outputs": [],
   "source": [
    "df = pd.DataFrame(data=convertedInput)"
   ]
  },
  {
   "cell_type": "markdown",
   "metadata": {},
   "source": [
    "# Solution 1"
   ]
  },
  {
   "cell_type": "code",
   "execution_count": 43,
   "metadata": {},
   "outputs": [
    {
     "name": "stdout",
     "output_type": "stream",
     "text": [
      "['0', '0', '0', '1', '0', '0', '0', '1', '1', '0', '0', '1']\n",
      "['1', '1', '1', '0', '1', '1', '1', '0', '0', '1', '1', '0']\n"
     ]
    }
   ],
   "source": [
    "gamma = []\n",
    "epsilon = []\n",
    "\n",
    "for i in df.columns:\n",
    "    arr = df[i]\n",
    "    numberOfOnes = np.count_nonzero(arr == '1')\n",
    "    numberOfZeros = len(df) - numberOfOnes\n",
    "    if numberOfOnes > numberOfZeros:\n",
    "        gamma.append('1')\n",
    "        epsilon.append('0')\n",
    "    else:\n",
    "        gamma.append('0')\n",
    "        epsilon.append('1')\n",
    "\n",
    "print(gamma)\n",
    "print(epsilon)"
   ]
  },
  {
   "cell_type": "code",
   "execution_count": 47,
   "metadata": {},
   "outputs": [
    {
     "data": {
      "text/plain": [
       "1071734"
      ]
     },
     "execution_count": 47,
     "metadata": {},
     "output_type": "execute_result"
    }
   ],
   "source": [
    "gammaNumber = int(''.join(gamma),2)\n",
    "epsilonNumber = int(''.join(epsilon),2)\n",
    "gammaNumber * epsilonNumber"
   ]
  },
  {
   "cell_type": "markdown",
   "metadata": {},
   "source": [
    "# Solution 2"
   ]
  },
  {
   "cell_type": "code",
   "execution_count": 115,
   "metadata": {},
   "outputs": [
    {
     "name": "stdout",
     "output_type": "stream",
     "text": [
      "[['0' '1' '1' '0' '1' '0' '0' '0' '1' '1' '1' '1']]\n",
      "[['1' '1' '1' '0' '0' '1' '0' '0' '0' '0' '0' '0']]\n"
     ]
    }
   ],
   "source": [
    "ogRating = df.copy()\n",
    "coRating = df.copy()\n",
    "\n",
    "for i in df.columns:\n",
    "    if len(ogRating) != 1:\n",
    "        arr = ogRating[i]\n",
    "        numberOfOnes = np.count_nonzero(arr == '1')\n",
    "        numberOfZeros = len(ogRating) - numberOfOnes\n",
    "        if numberOfOnes >= numberOfZeros:\n",
    "            numberToDrop = '0'\n",
    "        else:\n",
    "            numberToDrop = '1'\n",
    "        ogRating = ogRating.drop(ogRating.index[[num == numberToDrop for num in ogRating[i].values]].values,axis=0)\n",
    "    if len(coRating) != 1:\n",
    "        arr = coRating[i]\n",
    "        numberOfOnes = np.count_nonzero(arr == '1')\n",
    "        numberOfZeros = len(coRating) - numberOfOnes\n",
    "        if numberOfOnes >= numberOfZeros:\n",
    "            numberToDrop = '1'\n",
    "        else:\n",
    "            numberToDrop = '0'\n",
    "        coRating = coRating.drop(coRating.index[[num == numberToDrop for num in coRating[i].values]].values,axis=0)\n",
    "\n",
    "print(ogRating.values)\n",
    "print(coRating.values)"
   ]
  },
  {
   "cell_type": "code",
   "execution_count": 116,
   "metadata": {},
   "outputs": [
    {
     "data": {
      "text/plain": [
       "6124992"
      ]
     },
     "execution_count": 116,
     "metadata": {},
     "output_type": "execute_result"
    }
   ],
   "source": [
    "ogNumber = int(''.join(ogRating.values[0]),2)\n",
    "coNumber = int(''.join(coRating.values[0]),2)\n",
    "ogNumber * coNumber"
   ]
  }
 ],
 "metadata": {
  "interpreter": {
   "hash": "a6bab44bb1383eddbcc9d77b911b160ba5922e22c8249b8762f49eb83e6e16c5"
  },
  "kernelspec": {
   "display_name": "Python 3.10.0 64-bit ('AoC2021_Day_3': virtualenv)",
   "language": "python",
   "name": "python3"
  },
  "language_info": {
   "codemirror_mode": {
    "name": "ipython",
    "version": 3
   },
   "file_extension": ".py",
   "mimetype": "text/x-python",
   "name": "python",
   "nbconvert_exporter": "python",
   "pygments_lexer": "ipython3",
   "version": "3.10.0"
  },
  "orig_nbformat": 4
 },
 "nbformat": 4,
 "nbformat_minor": 2
}
