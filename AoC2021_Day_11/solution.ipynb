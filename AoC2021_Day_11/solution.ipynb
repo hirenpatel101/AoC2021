{
 "cells": [
  {
   "cell_type": "code",
   "execution_count": 57,
   "metadata": {},
   "outputs": [],
   "source": [
    "def ReadFileIntoList(testFile = False):\n",
    "    filename = 'input.txt'\n",
    "    if testFile:\n",
    "        filename = 'test.txt'\n",
    "    with open(filename) as file:\n",
    "        lines = file.readlines()\n",
    "        lines = [line.rstrip() for line in lines]\n",
    "    return lines\n",
    "\n",
    "input = ReadFileIntoList()"
   ]
  },
  {
   "cell_type": "code",
   "execution_count": 25,
   "metadata": {},
   "outputs": [],
   "source": [
    "import numpy as np"
   ]
  },
  {
   "cell_type": "code",
   "execution_count": 58,
   "metadata": {},
   "outputs": [],
   "source": [
    "def GetCleanArray(testFile = False):\n",
    "    input = ReadFileIntoList(testFile)\n",
    "    array = []\n",
    "    for line in input:\n",
    "        tmp = []\n",
    "        for i in range(len(line)):\n",
    "            tmp.append(int(line[i]))\n",
    "        array.append(tmp)\n",
    "    return np.array(array)"
   ]
  },
  {
   "cell_type": "code",
   "execution_count": 10,
   "metadata": {},
   "outputs": [],
   "source": [
    "def GetSurroundingCells(row, col, rows,cols):\n",
    "    changes = [(-1,-1),(-1,0),(-1,1),(0,-1),(0,1),(1,-1),(1,0),(1,1)]\n",
    "    cells = []\n",
    "    for dR,dC in changes:\n",
    "        cellR = row + dR\n",
    "        cellC = col + dC\n",
    "        if 0<=cellR<rows and 0<=cellC<cols:\n",
    "            cells.append((cellR,cellC))\n",
    "    return cells"
   ]
  },
  {
   "cell_type": "markdown",
   "metadata": {},
   "source": [
    "# Solution 1"
   ]
  },
  {
   "cell_type": "code",
   "execution_count": 61,
   "metadata": {},
   "outputs": [
    {
     "name": "stdout",
     "output_type": "stream",
     "text": [
      "Answer is 1717\n"
     ]
    }
   ],
   "source": [
    "steps = 100\n",
    "array = GetCleanArray()\n",
    "rows = len(array)\n",
    "cols = len(array[0])\n",
    "flashes = 0\n",
    "\n",
    "for step in range(0,steps):\n",
    "    array += 1\n",
    "    listsOfCoords = np.where(array == 10)\n",
    "    coords = list(zip(listsOfCoords[0],listsOfCoords[1]))\n",
    "    for row, col in coords:\n",
    "        surroundingCoords = GetSurroundingCells(row, col, rows, cols)\n",
    "        for sRow,sCol in surroundingCoords:\n",
    "            if array[sRow][sCol] == 9:\n",
    "                coords.append((sRow,sCol))\n",
    "                array[sRow][sCol] += 1\n",
    "            elif array[sRow][sCol] != 0:\n",
    "                array[sRow][sCol] += 1\n",
    "        array[row][col] = 0\n",
    "        flashes += 1\n",
    "print(\"Answer is\",flashes)\n"
   ]
  },
  {
   "cell_type": "markdown",
   "metadata": {},
   "source": [
    "# Solution 2"
   ]
  },
  {
   "cell_type": "code",
   "execution_count": 62,
   "metadata": {},
   "outputs": [
    {
     "name": "stdout",
     "output_type": "stream",
     "text": [
      "Answer is 476\n"
     ]
    }
   ],
   "source": [
    "steps = 0\n",
    "array = GetCleanArray()\n",
    "rows = len(array)\n",
    "cols = len(array[0])\n",
    "flashes = 0\n",
    "foundStep = False\n",
    "\n",
    "while(foundStep == False):\n",
    "    array += 1\n",
    "    listsOfCoords = np.where(array == 10)\n",
    "    coords = list(zip(listsOfCoords[0],listsOfCoords[1]))\n",
    "    for row, col in coords:\n",
    "        surroundingCoords = GetSurroundingCells(row, col, rows, cols)\n",
    "        for sRow,sCol in surroundingCoords:\n",
    "            if array[sRow][sCol] == 9:\n",
    "                coords.append((sRow,sCol))\n",
    "                array[sRow][sCol] += 1\n",
    "            elif array[sRow][sCol] != 0:\n",
    "                array[sRow][sCol] += 1\n",
    "        array[row][col] = 0\n",
    "    steps += 1\n",
    "    foundStep = (array == 0).all()\n",
    "\n",
    "print(\"Answer is\",steps)\n"
   ]
  }
 ],
 "metadata": {
  "interpreter": {
   "hash": "c9d7b541acbd4e5ab8068466b39bf2885a06f9190649f359b45c126a82ff4589"
  },
  "kernelspec": {
   "display_name": "Python 3.10.0 64-bit ('AoC2021_Day_11': virtualenv)",
   "language": "python",
   "name": "python3"
  },
  "language_info": {
   "codemirror_mode": {
    "name": "ipython",
    "version": 3
   },
   "file_extension": ".py",
   "mimetype": "text/x-python",
   "name": "python",
   "nbconvert_exporter": "python",
   "pygments_lexer": "ipython3",
   "version": "3.10.0"
  },
  "orig_nbformat": 4
 },
 "nbformat": 4,
 "nbformat_minor": 2
}
