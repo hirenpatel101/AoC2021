{
 "cells": [
  {
   "cell_type": "code",
   "execution_count": 1,
   "metadata": {},
   "outputs": [],
   "source": [
    "def ReadFileIntoList(testFile = False):\n",
    "    filename = 'input.txt'\n",
    "    if testFile:\n",
    "        filename = 'test.txt'\n",
    "    with open(filename) as file:\n",
    "        lines = file.readlines()\n",
    "        lines = [line.rstrip() for line in lines]\n",
    "    return lines"
   ]
  },
  {
   "cell_type": "code",
   "execution_count": 2,
   "metadata": {},
   "outputs": [],
   "source": [
    "import numpy as np\n",
    "from collections import Counter"
   ]
  },
  {
   "cell_type": "code",
   "execution_count": 3,
   "metadata": {},
   "outputs": [],
   "source": [
    "def TurnFormulaIntoDict(formulaList):\n",
    "    formulaDict = {}\n",
    "    for formula in formulaList:\n",
    "        splitFormula = formula.split(' -> ')\n",
    "        formulaDict[splitFormula[0]] = splitFormula[1]\n",
    "    return formulaDict"
   ]
  },
  {
   "cell_type": "code",
   "execution_count": 4,
   "metadata": {},
   "outputs": [],
   "source": [
    "def GetStartStateAndFomula(testFile = False):\n",
    "    input = ReadFileIntoList(testFile)\n",
    "    array = np.array(input)\n",
    "    blankLine = np.where(array == '')[0][0]\n",
    "    startState = [l for l in array[0]]\n",
    "    formula = TurnFormulaIntoDict(array[blankLine+1:])\n",
    "    return startState, formula"
   ]
  },
  {
   "cell_type": "code",
   "execution_count": 5,
   "metadata": {},
   "outputs": [],
   "source": [
    "def GetCleanNumbersAndPairsDict(startState, formulaDict):\n",
    "    numbersDict = {}\n",
    "    pairsDict = {}\n",
    "    for formula in formulaDict.keys():\n",
    "        numbersDict[formulaDict[formula]] = 0\n",
    "    for i in range(len(startState)-1):\n",
    "        pairsDict[startState[i] + startState[i+1]] = 0\n",
    "    for i in range(len(startState)-1):\n",
    "        numbersDict[startState[i]] += 1\n",
    "        pairsDict[startState[i] + startState[i+1]] +=1\n",
    "    numbersDict[startState[i+1]] += 1\n",
    "    return numbersDict,pairsDict"
   ]
  },
  {
   "cell_type": "markdown",
   "metadata": {},
   "source": [
    "# Solution 1 and 2"
   ]
  },
  {
   "cell_type": "code",
   "execution_count": 6,
   "metadata": {},
   "outputs": [
    {
     "name": "stdout",
     "output_type": "stream",
     "text": [
      "Answer is 3816397135460\n"
     ]
    }
   ],
   "source": [
    "startState, formulaDict = GetStartStateAndFomula()\n",
    "numbersDict, pairsDict = GetCleanNumbersAndPairsDict(startState,formulaDict)\n",
    "\n",
    "steps = 40\n",
    "for step in range(steps):\n",
    "    newPairsDict = {}\n",
    "    for key in pairsDict.keys():\n",
    "        element = formulaDict[key]\n",
    "        newPair1 = key[0] + element\n",
    "        newPair2 = element + key[1]\n",
    "        numbersDict[element] += pairsDict[key]\n",
    "        newPairsDict[newPair1] = pairsDict[key] + newPairsDict.get(newPair1,0)\n",
    "        newPairsDict[newPair2] = pairsDict[key] + newPairsDict.get(newPair2,0)\n",
    "    pairsDict = newPairsDict\n",
    "frequencies = list(Counter(numbersDict).values())\n",
    "frequencies.sort(reverse=True)\n",
    "answer = frequencies[0] - frequencies[-1]\n",
    "print(\"Answer is\", answer)"
   ]
  }
 ],
 "metadata": {
  "interpreter": {
   "hash": "c5a68f1de8cb9b9e52d88959baa0bd101a1800d221447750a5e644992259539f"
  },
  "kernelspec": {
   "display_name": "Python 3.10.0 64-bit ('AoC2021_Day_14': virtualenv)",
   "language": "python",
   "name": "python3"
  },
  "language_info": {
   "codemirror_mode": {
    "name": "ipython",
    "version": 3
   },
   "file_extension": ".py",
   "mimetype": "text/x-python",
   "name": "python",
   "nbconvert_exporter": "python",
   "pygments_lexer": "ipython3",
   "version": "3.10.0"
  },
  "orig_nbformat": 4
 },
 "nbformat": 4,
 "nbformat_minor": 2
}
