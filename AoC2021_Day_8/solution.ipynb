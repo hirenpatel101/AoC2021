{
 "cells": [
  {
   "cell_type": "code",
   "execution_count": 95,
   "metadata": {},
   "outputs": [],
   "source": [
    "def ReadFileIntoList(filename):\n",
    "    with open(filename) as file:\n",
    "        lines = file.readlines()\n",
    "        lines = [line.rstrip() for line in lines]\n",
    "    return lines\n",
    "\n",
    "input = ReadFileIntoList(\"input.txt\")"
   ]
  },
  {
   "cell_type": "code",
   "execution_count": 96,
   "metadata": {},
   "outputs": [],
   "source": [
    "initialSplit = [line.split('|') for line in input]"
   ]
  },
  {
   "cell_type": "code",
   "execution_count": 97,
   "metadata": {},
   "outputs": [],
   "source": [
    "usPatterns = [line[0].rstrip().split(' ') for line in initialSplit]\n",
    "outputValues = [line[1].lstrip().split(' ') for line in initialSplit]"
   ]
  },
  {
   "cell_type": "markdown",
   "metadata": {},
   "source": [
    "# Solution 1"
   ]
  },
  {
   "cell_type": "code",
   "execution_count": 98,
   "metadata": {},
   "outputs": [
    {
     "name": "stdout",
     "output_type": "stream",
     "text": [
      "344\n"
     ]
    }
   ],
   "source": [
    "numberOfDigits = 0\n",
    "for outputValue in outputValues:\n",
    "    for digit in outputValue:\n",
    "        if len(digit) == 2:\n",
    "            numberOfDigits += 1\n",
    "        if len(digit) == 3:\n",
    "            numberOfDigits += 1\n",
    "        if len(digit) == 4:\n",
    "            numberOfDigits += 1\n",
    "        if len(digit) == 7:\n",
    "            numberOfDigits += 1\n",
    "print(numberOfDigits)"
   ]
  },
  {
   "cell_type": "code",
   "execution_count": 99,
   "metadata": {},
   "outputs": [],
   "source": [
    "def RemoveSegments(segmentsToRemoveFrom:str,segmentsToRemove:str):\n",
    "    return segmentsToRemoveFrom.translate({ord(i): None for i in segmentsToRemove})"
   ]
  },
  {
   "cell_type": "code",
   "execution_count": 100,
   "metadata": {},
   "outputs": [],
   "source": [
    "def FigureSegmentsOut(numberArray, usPattern):\n",
    "    potentialTopLeftSegment = RemoveSegments(numberArray[4],numberArray[1])\n",
    "    for digit in [d for d in usPattern if len(d) == 5]:\n",
    "        notNumberThree = False\n",
    "        notNumberFive = False\n",
    "        if potentialTopLeftSegment[0] in digit and potentialTopLeftSegment[1] in digit:\n",
    "            numberArray[5] = digit\n",
    "        else:\n",
    "            notNumberFive = True\n",
    "        if numberArray[1][0] in digit and numberArray[1][1] in digit:\n",
    "            numberArray[3] = digit\n",
    "        else:\n",
    "            notNumberThree = True\n",
    "        if notNumberFive and notNumberThree:\n",
    "            numberArray[2] = digit\n",
    "    topRightSegment = RemoveSegments(numberArray[1],numberArray[5])\n",
    "    bottomLeftSegment = RemoveSegments(numberArray[2],numberArray[3])\n",
    "    for digit in [d for d in usPattern if len(d) == 6]:\n",
    "        notNumberSix = False\n",
    "        notNumberNine = False\n",
    "        if topRightSegment not in digit:\n",
    "            numberArray[6] = digit\n",
    "        else:\n",
    "            notNumberSix = True\n",
    "        if bottomLeftSegment not in digit:\n",
    "            numberArray[9] = digit\n",
    "        else:\n",
    "            notNumberNine = True\n",
    "        if notNumberSix and notNumberNine:\n",
    "            numberArray[0] = digit\n",
    "    return numberArray"
   ]
  },
  {
   "cell_type": "code",
   "execution_count": 101,
   "metadata": {},
   "outputs": [],
   "source": [
    "def FigureOutputValuesOut(numberArray, outputValues):\n",
    "    number = ''\n",
    "    for outputValue in outputValues:\n",
    "        for digit in [d for d in numberArray if len(d) == len(outputValue)]:\n",
    "            if all(character in outputValue for character in digit):\n",
    "                number += str(numberArray.index(digit))\n",
    "    return int(number)"
   ]
  },
  {
   "cell_type": "markdown",
   "metadata": {},
   "source": [
    "# Solution 2"
   ]
  },
  {
   "cell_type": "code",
   "execution_count": 102,
   "metadata": {},
   "outputs": [
    {
     "name": "stdout",
     "output_type": "stream",
     "text": [
      "1048410\n"
     ]
    }
   ],
   "source": [
    "numberArray = [''] * 10\n",
    "sumNumber = 0\n",
    "for usPattern,outputValue in zip(usPatterns,outputValues):\n",
    "    for digit in usPattern:\n",
    "        if len(digit) == 2:\n",
    "            numberArray[1] = digit\n",
    "        if len(digit) == 3:\n",
    "            numberArray[7] = digit\n",
    "        if len(digit) == 4:\n",
    "            numberArray[4] = digit\n",
    "        if len(digit) == 7:\n",
    "            numberArray[8] = digit\n",
    "    numberArray = FigureSegmentsOut(numberArray,usPattern)\n",
    "    sumNumber += FigureOutputValuesOut(numberArray,outputValue)\n",
    "print(sumNumber)"
   ]
  }
 ],
 "metadata": {
  "interpreter": {
   "hash": "fc57bd6f7fb89e02474698baccc9b664128aa51e97aa22ef6e2abb8e837ad431"
  },
  "kernelspec": {
   "display_name": "Python 3.10.0 64-bit ('AoC2021_Day_8': virtualenv)",
   "language": "python",
   "name": "python3"
  },
  "language_info": {
   "codemirror_mode": {
    "name": "ipython",
    "version": 3
   },
   "file_extension": ".py",
   "mimetype": "text/x-python",
   "name": "python",
   "nbconvert_exporter": "python",
   "pygments_lexer": "ipython3",
   "version": "3.10.0"
  },
  "orig_nbformat": 4
 },
 "nbformat": 4,
 "nbformat_minor": 2
}
