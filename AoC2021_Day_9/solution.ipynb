{
 "cells": [
  {
   "cell_type": "code",
   "execution_count": 116,
   "metadata": {},
   "outputs": [],
   "source": [
    "def ReadFileIntoList(filename):\n",
    "    with open(filename) as file:\n",
    "        lines = file.readlines()\n",
    "        lines = [line.rstrip() for line in lines]\n",
    "    return lines\n",
    "\n",
    "input = ReadFileIntoList(\"input.txt\")"
   ]
  },
  {
   "cell_type": "code",
   "execution_count": 14,
   "metadata": {},
   "outputs": [],
   "source": [
    "def SplitArray(input):\n",
    "    array = []\n",
    "    for line in input:\n",
    "        array.append([int(char) for char in line])\n",
    "    return array"
   ]
  },
  {
   "cell_type": "code",
   "execution_count": 122,
   "metadata": {},
   "outputs": [],
   "source": [
    "def GetCheckPosns(row,column,array):\n",
    "    checkPosns = [(row-1,column),(row+1,column),(row,column-1),(row,column+1)]\n",
    "    if column == 0:\n",
    "        checkPosns = [(row-1,column),(row,column+1),(row+1,column)]\n",
    "    if column == len(array[row])-1:\n",
    "        checkPosns = [(row-1,column),(row,column-1),(row+1,column)]\n",
    "    if row == 0:\n",
    "        checkPosns = [(0,column-1),(1,column),(0,column+1)]\n",
    "        if column == 0:\n",
    "            checkPosns = [(0,1),(1,0)]\n",
    "        if column == len(array[row])-1:\n",
    "            checkPosns = [(0,column-1),(1,column)]\n",
    "    if row == len(array)-1:\n",
    "        checkPosns = [(row,column-1),(row-1,column),(row,column+1)]\n",
    "        if column == 0:\n",
    "            checkPosns = [(row,1),(row-1,0)]\n",
    "        if column == len(array[row])-1:\n",
    "            checkPosns = [(row,column-1),(row-1,column)]\n",
    "    return checkPosns"
   ]
  },
  {
   "cell_type": "code",
   "execution_count": 120,
   "metadata": {},
   "outputs": [],
   "source": [
    "def CheckLowest(row, column, array):\n",
    "    number = array[row][column]\n",
    "    checkPosns = GetCheckPosns(row,column,array)\n",
    "\n",
    "    for i,j in checkPosns:\n",
    "        checkNumber = array[i][j]\n",
    "        if checkNumber <= number:\n",
    "            return False\n",
    "    return True"
   ]
  },
  {
   "cell_type": "markdown",
   "metadata": {},
   "source": [
    "# Solution 1"
   ]
  },
  {
   "cell_type": "code",
   "execution_count": 121,
   "metadata": {},
   "outputs": [
    {
     "name": "stdout",
     "output_type": "stream",
     "text": [
      "Answer is 516\n"
     ]
    }
   ],
   "source": [
    "array = SplitArray(input)\n",
    "sum = 0\n",
    "lowestNumbers = []\n",
    "for i in range(len(array)):\n",
    "    for j in range(len(array[i])):\n",
    "        if CheckLowest(i,j,array):\n",
    "            lowestNumbers.append(array[i][j])\n",
    "            sum += array[i][j] + 1\n",
    "print(\"Answer is\",sum)"
   ]
  },
  {
   "cell_type": "code",
   "execution_count": 123,
   "metadata": {},
   "outputs": [],
   "source": [
    "def FindBasinSize(row,column,array,checkArray):\n",
    "    checkPosns = GetCheckPosns(row,column,array)\n",
    "    checkArray[row][column] = True\n",
    "    basinSize = 1\n",
    "    for i,j in checkPosns:\n",
    "        if array[i][j] != 9 and checkArray[i][j] == False:\n",
    "            basinSize += FindBasinSize(i,j,array,checkArray)\n",
    "    return basinSize"
   ]
  },
  {
   "cell_type": "markdown",
   "metadata": {},
   "source": [
    "# Solution 2"
   ]
  },
  {
   "cell_type": "code",
   "execution_count": 124,
   "metadata": {},
   "outputs": [
    {
     "name": "stdout",
     "output_type": "stream",
     "text": [
      "Answer is 1023660\n"
     ]
    }
   ],
   "source": [
    "array = SplitArray(input)\n",
    "basinSizes = []\n",
    "\n",
    "for i in range(len(array)):\n",
    "    for j in range(len(array[i])):\n",
    "        if CheckLowest(i,j,array):\n",
    "            checkArray = []\n",
    "            for k in range(len(array)):\n",
    "                checkArray.append([False] * len(array[0]))\n",
    "            basinSize = FindBasinSize(i,j,array,checkArray)\n",
    "            basinSizes.append(basinSize)\n",
    "\n",
    "basinSizes.sort(reverse=True)\n",
    "print(\"Answer is\",basinSizes[0]*basinSizes[1]*basinSizes[2])"
   ]
  }
 ],
 "metadata": {
  "interpreter": {
   "hash": "010223c6d56c886e923ba5b3cb4ff0f70eb9cd8fba98f5753755c816debc7d02"
  },
  "kernelspec": {
   "display_name": "Python 3.10.0 64-bit ('AoC2021_Day_9': virtualenv)",
   "language": "python",
   "name": "python3"
  },
  "language_info": {
   "codemirror_mode": {
    "name": "ipython",
    "version": 3
   },
   "file_extension": ".py",
   "mimetype": "text/x-python",
   "name": "python",
   "nbconvert_exporter": "python",
   "pygments_lexer": "ipython3",
   "version": "3.10.0"
  },
  "orig_nbformat": 4
 },
 "nbformat": 4,
 "nbformat_minor": 2
}
