{
 "cells": [
  {
   "cell_type": "code",
   "execution_count": 9,
   "metadata": {},
   "outputs": [],
   "source": [
    "def ReadFileIntoList(filename):\n",
    "    with open(filename) as file:\n",
    "        lines = file.readlines()\n",
    "        lines = [line.rstrip() for line in lines]\n",
    "    return lines"
   ]
  },
  {
   "cell_type": "code",
   "execution_count": 10,
   "metadata": {},
   "outputs": [],
   "source": [
    "input = ReadFileIntoList(\"input.txt\")"
   ]
  },
  {
   "cell_type": "code",
   "execution_count": 11,
   "metadata": {},
   "outputs": [],
   "source": [
    "import numpy as np\n",
    "import pandas as pd"
   ]
  },
  {
   "cell_type": "code",
   "execution_count": 12,
   "metadata": {},
   "outputs": [],
   "source": [
    "drawNumbers = [int(num) for num in input[0].split(',')]"
   ]
  },
  {
   "cell_type": "code",
   "execution_count": 13,
   "metadata": {},
   "outputs": [],
   "source": [
    "boardsCollated = input[2:]\n",
    "boards = [[]]\n",
    "boardNumber = 0\n",
    "for i in range(len(boardsCollated)):\n",
    "    if boardsCollated[i] != '':\n",
    "        boards[boardNumber].append([int(line) for line in boardsCollated[i].split(' ') if line != ''])\n",
    "    if boardsCollated[i] == '':\n",
    "        boards.append([])\n",
    "        boardNumber += 1"
   ]
  },
  {
   "cell_type": "code",
   "execution_count": 14,
   "metadata": {},
   "outputs": [],
   "source": [
    "def RecreateArrays():\n",
    "    dfArrayToChange = []\n",
    "    dfArrayToKeep = []\n",
    "    for i in range(len(boards)):\n",
    "        df = pd.DataFrame(boards[i])\n",
    "        dfArrayToChange.append(df.copy())\n",
    "        dfArrayToKeep.append(df.copy())\n",
    "    return (dfArrayToChange,dfArrayToKeep)"
   ]
  },
  {
   "cell_type": "code",
   "execution_count": 15,
   "metadata": {},
   "outputs": [],
   "source": [
    "def CheckDfForWinners(df):\n",
    "    for i in df.index:\n",
    "        checkArray = df.iloc[i].values\n",
    "        isRowWinner = all(flag == '' for flag in checkArray) \n",
    "        checkArray = df.iloc[:,i].values\n",
    "        isColumnWinner = all(flag == '' for flag in checkArray)\n",
    "        if isRowWinner or isColumnWinner:\n",
    "            return True\n",
    "        return False"
   ]
  },
  {
   "cell_type": "code",
   "execution_count": 17,
   "metadata": {},
   "outputs": [
    {
     "name": "stdout",
     "output_type": "stream",
     "text": [
      "Winner found\n",
      "    0   1   2   3   4\n",
      "0                    \n",
      "1  27  56  50  33  54\n",
      "2  67      35  25  10\n",
      "3  93          90   4\n",
      "4  57          83    \n",
      "This array number 93\n",
      "This was the last number drawn: 92\n",
      "Answer is 684 * 92 = 62928\n"
     ]
    }
   ],
   "source": [
    "(dfArrayToChange,dfArrayToKeep) = RecreateArrays()\n",
    "hasWinner = False\n",
    "for numberToTickOff in drawNumbers:\n",
    "    for j in range(len(dfArrayToChange)):\n",
    "        df = dfArrayToChange[j]\n",
    "        df.replace(to_replace=numberToTickOff,value='',inplace=True)\n",
    "        hasWinner = CheckDfForWinners(df)\n",
    "        #print(hasWinner)\n",
    "        if hasWinner == True:\n",
    "            print(\"Winner found\")\n",
    "            print(df)\n",
    "            print(f\"This array number {j}\")\n",
    "            print(f\"This was the last number drawn: {numberToTickOff}\")\n",
    "            break\n",
    "    if hasWinner == True:\n",
    "        break\n",
    "sumOfUnchecked = np.sum(np.sum(dfArrayToChange[j].replace(to_replace='',value=0)))\n",
    "answer = sumOfUnchecked * numberToTickOff\n",
    "print(f\"Answer is {sumOfUnchecked} * {numberToTickOff} = {answer}\")"
   ]
  },
  {
   "cell_type": "code",
   "execution_count": 151,
   "metadata": {},
   "outputs": [
    {
     "name": "stdout",
     "output_type": "stream",
     "text": [
      "df 93 is a winner\n",
      "df 30 is a winner\n",
      "df 28 is a winner\n",
      "df 6 is a winner\n",
      "df 3 is a winner\n",
      "df 0 is a winner\n",
      "Answer is 403 * 54 = 21762\n"
     ]
    }
   ],
   "source": [
    "(dfArrayToChange,dfArrayToKeep) = RecreateArrays()\n",
    "hasWinner = False\n",
    "knownWinners = []\n",
    "lastKnownWinnerPosn = None\n",
    "\n",
    "for i in range(len(drawNumbers)):\n",
    "    numberToTickOff = drawNumbers[i]\n",
    "    for j in range(len(dfArrayToChange)):\n",
    "        if any(flag == j for flag in knownWinners) == True:\n",
    "            break\n",
    "        df = dfArrayToChange[j]\n",
    "        df.replace(to_replace=numberToTickOff,value='',inplace=True)\n",
    "        hasWinner = CheckDfForWinners(df)\n",
    "        if hasWinner == True:\n",
    "            lastKnownWinner = df\n",
    "            lastKnownWinnerPosn = j\n",
    "            print(f\"df {j} is a winner\")\n",
    "    if lastKnownWinnerPosn != None and any(flag == lastKnownWinnerPosn for flag in knownWinners) == False:\n",
    "        knownWinners.append(lastKnownWinnerPosn)\n",
    "\n",
    "sumOfUnchecked = np.sum(np.sum(dfArrayToChange[lastKnownWinnerPosn].replace(to_replace='',value=0)))\n",
    "answer = sumOfUnchecked * numberToTickOff\n",
    "print(f\"Answer is {sumOfUnchecked} * {numberToTickOff} = {answer}\")\n",
    "        "
   ]
  },
  {
   "cell_type": "code",
   "execution_count": 152,
   "metadata": {},
   "outputs": [
    {
     "data": {
      "text/plain": [
       "99"
      ]
     },
     "execution_count": 152,
     "metadata": {},
     "output_type": "execute_result"
    }
   ],
   "source": [
    "i\n"
   ]
  },
  {
   "cell_type": "code",
   "execution_count": 108,
   "metadata": {},
   "outputs": [
    {
     "name": "stdout",
     "output_type": "stream",
     "text": [
      "    0   1   2   3   4\n",
      "0                    \n",
      "1  27  56  50  33  54\n",
      "2  67      35  25  10\n",
      "3  93          90   4\n",
      "4  57          83    \n"
     ]
    }
   ],
   "source": [
    "for df in dfArrayToChange:\n",
    "    if CheckDfForWinners(df) == True:\n",
    "        print(df)"
   ]
  },
  {
   "cell_type": "code",
   "execution_count": 78,
   "metadata": {},
   "outputs": [],
   "source": [
    "dfArrayToChange[93].replace(to_replace='',value=0,inplace=True)"
   ]
  },
  {
   "cell_type": "code",
   "execution_count": 81,
   "metadata": {},
   "outputs": [
    {
     "data": {
      "text/plain": [
       "684"
      ]
     },
     "execution_count": 81,
     "metadata": {},
     "output_type": "execute_result"
    }
   ],
   "source": [
    "np.sum(np.sum(dfArrayToChange[93]))"
   ]
  },
  {
   "cell_type": "code",
   "execution_count": 7,
   "metadata": {},
   "outputs": [
    {
     "name": "stdout",
     "output_type": "stream",
     "text": [
      "sheet pos:  48\n",
      "Part 1: 31424\n",
      "last_called:  32\n"
     ]
    }
   ],
   "source": [
    "import os, re\n",
    "\n",
    "PATH = \"input.txt\"\n",
    "\n",
    "def parse_input(fin):\n",
    "    rexp = re.compile(r'\\d+')\n",
    "    fin = [list(map(int,rexp.findall(line))) for line in fin.read().split(\"\\n\\n\")] # [[call number], [bingo sheet], []]\n",
    "\n",
    "    return fin[0], fin[1:] \n",
    "\n",
    "def count_part1(call, sheets, mode):\n",
    "    winner = [0 for i in range(len(sheets))] # list to track completed sheet\n",
    "    sheets = [[[i, 0] for i in sheet] for sheet in sheets] # [[number, 0] * 25],[]]\n",
    "    for i in call:\n",
    "        for sheet_pos, sheet in enumerate(sheets):\n",
    "            if winner[sheet_pos] == 0:\n",
    "                for number_pos, number_drawn in enumerate(sheet):\n",
    "                    if number_drawn[0] == i: # if called number is already drawn then change 0 to 1\n",
    "                        number_drawn[1] = 1\n",
    "                        column, row = divmod(number_pos, 5)\n",
    "                        check_row = all([sheet[n+(5*column)][1] for n in range(5)])\n",
    "                        check_collumn = all([sheet[row+(5*n)][1] for n in range(5)])\n",
    "                        if check_row or check_collumn:\n",
    "                            if mode == \"first\":\n",
    "                                print(\"sheet pos: \", sheet_pos)\n",
    "                                return sheet, i\n",
    "                            else: # mode == \"last\"\n",
    "                                if winner.count(0) == 1: # if this sheet is last one to win\n",
    "                                    return sheet, i\n",
    "                                else:\n",
    "                                    winner[sheet_pos] = 1 # track completed sheet\n",
    "\n",
    "with open(PATH, 'r') as file:\n",
    "    call, sheets = parse_input(file)\n",
    "\n",
    "sheet, just_called = count_part1(call, sheets, \"first\")\n",
    "ans = sum([i[0] for i in sheet if i[1] == 0]) * just_called # add all uncalled number then multiply that by number just called\n",
    "print('Part 1:', str(ans))\n",
    "print(\"last_called: \", just_called)\n",
    "\n",
    "#sheet, just_called = count_part1(call, sheets, \"last\")\n",
    "#ans = sum([i[0] for i in sheet if i[1] == 0]) * just_called\n",
    "#print('Part 2:', str(ans))"
   ]
  },
  {
   "cell_type": "code",
   "execution_count": 3,
   "metadata": {},
   "outputs": [
    {
     "ename": "NameError",
     "evalue": "name 'sheet_pos' is not defined",
     "output_type": "error",
     "traceback": [
      "\u001b[1;31m---------------------------------------------------------------------------\u001b[0m",
      "\u001b[1;31mNameError\u001b[0m                                 Traceback (most recent call last)",
      "\u001b[1;32m~\\AppData\\Local\\Temp/ipykernel_17040/599453351.py\u001b[0m in \u001b[0;36m<module>\u001b[1;34m\u001b[0m\n\u001b[1;32m----> 1\u001b[1;33m \u001b[0msheet_pos\u001b[0m\u001b[1;33m\u001b[0m\u001b[1;33m\u001b[0m\u001b[0m\n\u001b[0m",
      "\u001b[1;31mNameError\u001b[0m: name 'sheet_pos' is not defined"
     ]
    }
   ],
   "source": [
    "sheet_pos"
   ]
  },
  {
   "cell_type": "markdown",
   "metadata": {},
   "source": [
    "Guessed 15732(too low),62928(too high)\n",
    "Guessed 21762(too low)"
   ]
  }
 ],
 "metadata": {
  "interpreter": {
   "hash": "a6bab44bb1383eddbcc9d77b911b160ba5922e22c8249b8762f49eb83e6e16c5"
  },
  "kernelspec": {
   "display_name": "Python 3.10.0 64-bit ('AoC2021_Day_3': virtualenv)",
   "language": "python",
   "name": "python3"
  },
  "language_info": {
   "codemirror_mode": {
    "name": "ipython",
    "version": 3
   },
   "file_extension": ".py",
   "mimetype": "text/x-python",
   "name": "python",
   "nbconvert_exporter": "python",
   "pygments_lexer": "ipython3",
   "version": "3.10.0"
  },
  "orig_nbformat": 4
 },
 "nbformat": 4,
 "nbformat_minor": 2
}
