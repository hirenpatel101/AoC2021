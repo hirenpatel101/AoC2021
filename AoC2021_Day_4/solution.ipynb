{
 "cells": [
  {
   "cell_type": "code",
   "execution_count": 1,
   "metadata": {},
   "outputs": [],
   "source": [
    "import numpy as np\n",
    "import pandas as pd"
   ]
  },
  {
   "cell_type": "code",
   "execution_count": 2,
   "metadata": {},
   "outputs": [],
   "source": [
    "def ReadFileIntoList(filename):\n",
    "    with open(filename) as file:\n",
    "        lines = file.readlines()\n",
    "        lines = [line.rstrip() for line in lines]\n",
    "    return lines"
   ]
  },
  {
   "cell_type": "code",
   "execution_count": 63,
   "metadata": {},
   "outputs": [],
   "source": [
    "input = ReadFileIntoList(\"input.txt\")"
   ]
  },
  {
   "cell_type": "code",
   "execution_count": 64,
   "metadata": {},
   "outputs": [],
   "source": [
    "drawNumbers = [int(num) for num in input[0].split(',')]"
   ]
  },
  {
   "cell_type": "code",
   "execution_count": 65,
   "metadata": {},
   "outputs": [],
   "source": [
    "boardsCollated = input[2:]\n",
    "boards = [[]]\n",
    "boardNumber = 0\n",
    "for i in range(len(boardsCollated)):\n",
    "    if boardsCollated[i] != '':\n",
    "        boards[boardNumber].append([int(line) for line in boardsCollated[i].split(' ') if line != ''])\n",
    "    if boardsCollated[i] == '':\n",
    "        boards.append([])\n",
    "        boardNumber += 1"
   ]
  },
  {
   "cell_type": "code",
   "execution_count": 75,
   "metadata": {},
   "outputs": [],
   "source": [
    "def RecreateArrays():\n",
    "    dfArrayToChange = []\n",
    "    dfArrayToKeep = []\n",
    "    for i in range(len(boards)):\n",
    "        df = pd.DataFrame(boards[i])\n",
    "        dfArrayToChange.append(df.copy())\n",
    "        dfArrayToKeep.append(df.copy())\n",
    "    return (dfArrayToChange,dfArrayToKeep)"
   ]
  },
  {
   "cell_type": "code",
   "execution_count": 86,
   "metadata": {},
   "outputs": [],
   "source": [
    "def CheckDfForWinners(df):\n",
    "    for i in df.index:\n",
    "        checkArray = df.iloc[i].values\n",
    "        isRowWinner = all(flag == '' for flag in checkArray) \n",
    "        checkArray = df.iloc[:,i].values\n",
    "        isColumnWinner = all(flag == '' for flag in checkArray)\n",
    "        if isRowWinner or isColumnWinner:\n",
    "            return True\n",
    "    return False"
   ]
  },
  {
   "cell_type": "code",
   "execution_count": 88,
   "metadata": {},
   "outputs": [
    {
     "name": "stdout",
     "output_type": "stream",
     "text": [
      "Winner found\n",
      "    0   1   2   3   4\n",
      "0  68      40  31  39\n",
      "1                    \n",
      "2  80  98  88  14  97\n",
      "3   6  60  52  11  55\n",
      "4  95      63  81   4\n",
      "This array number 48\n",
      "This was the last number drawn: 32\n",
      "Answer is 982 * 32 = 31424\n"
     ]
    }
   ],
   "source": [
    "(dfArrayToChange,dfArrayToKeep) = RecreateArrays()\n",
    "hasWinner = False\n",
    "for numberToTickOff in drawNumbers:\n",
    "    for j in range(len(dfArrayToChange)):\n",
    "        df = dfArrayToChange[j]\n",
    "        df.replace(to_replace=numberToTickOff,value='',inplace=True)\n",
    "        hasWinner = CheckDfForWinners(df)\n",
    "        #print(hasWinner)\n",
    "        if hasWinner == True:\n",
    "            print(\"Winner found\")\n",
    "            print(df)\n",
    "            print(f\"This array number {j}\")\n",
    "            print(f\"This was the last number drawn: {numberToTickOff}\")\n",
    "            break\n",
    "    if hasWinner == True:\n",
    "        break\n",
    "sumOfUnchecked = np.sum(np.sum(dfArrayToChange[j].replace(to_replace='',value=0)))\n",
    "answer = sumOfUnchecked * numberToTickOff\n",
    "print(f\"Answer is {sumOfUnchecked} * {numberToTickOff} = {answer}\")"
   ]
  },
  {
   "cell_type": "code",
   "execution_count": 102,
   "metadata": {},
   "outputs": [
    {
     "name": "stdout",
     "output_type": "stream",
     "text": [
      "Answer is 281 * 82 = 23042\n"
     ]
    }
   ],
   "source": [
    "(dfArrayToChange,dfArrayToKeep) = RecreateArrays()\n",
    "hasWinner = False\n",
    "knownWinnersPosns = []\n",
    "knownWinnerDfs = []\n",
    "lastNumberCalled = None\n",
    "\n",
    "for numberToTickOff in drawNumbers:\n",
    "    for j in range(len(dfArrayToChange)):\n",
    "        if any(flag == j for flag in knownWinnersPosns) == True:\n",
    "            continue\n",
    "        df = dfArrayToChange[j]\n",
    "        df.replace(to_replace=numberToTickOff,value='',inplace=True)\n",
    "        hasWinner = CheckDfForWinners(df)\n",
    "        if hasWinner == True:\n",
    "            #print(\"Winner found\")\n",
    "            #print(f\"This array number {j}\")\n",
    "            #print(f\"This was the last number drawn: {numberToTickOff}\")\n",
    "            lastNumberCalled = numberToTickOff\n",
    "            knownWinnerDfs.append(df)\n",
    "            #print(f\"df {j} is a winner\")\n",
    "            if any(flag == j for flag in knownWinnersPosns) == False:\n",
    "                #print(\"Got here\")\n",
    "                knownWinnersPosns.append(j)\n",
    "                #print(\"known winner posns\", knownWinnersPosns)\n",
    "\n",
    "sumOfUnchecked = np.sum(np.sum(knownWinnerDfs[-1].replace(to_replace='',value=0)))\n",
    "answer = sumOfUnchecked * lastNumberCalled\n",
    "print(f\"Answer is {sumOfUnchecked} * {lastNumberCalled} = {answer}\")\n",
    "        "
   ]
  }
 ],
 "metadata": {
  "interpreter": {
   "hash": "a6bab44bb1383eddbcc9d77b911b160ba5922e22c8249b8762f49eb83e6e16c5"
  },
  "kernelspec": {
   "display_name": "Python 3.10.0 64-bit ('AoC2021_Day_3': virtualenv)",
   "language": "python",
   "name": "python3"
  },
  "language_info": {
   "codemirror_mode": {
    "name": "ipython",
    "version": 3
   },
   "file_extension": ".py",
   "mimetype": "text/x-python",
   "name": "python",
   "nbconvert_exporter": "python",
   "pygments_lexer": "ipython3",
   "version": "3.10.0"
  },
  "orig_nbformat": 4
 },
 "nbformat": 4,
 "nbformat_minor": 2
}
