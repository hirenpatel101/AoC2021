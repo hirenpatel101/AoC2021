{
 "cells": [
  {
   "cell_type": "code",
   "execution_count": 3,
   "metadata": {},
   "outputs": [],
   "source": [
    "def ReadFileIntoList(filename):\n",
    "    with open(filename) as file:\n",
    "        lines = file.readlines()\n",
    "        lines = [line.rstrip() for line in lines]\n",
    "    return lines"
   ]
  },
  {
   "cell_type": "code",
   "execution_count": 33,
   "metadata": {},
   "outputs": [],
   "source": [
    "input = ReadFileIntoList(\"input.txt\")\n",
    "#input = [199,200,208,210,200,207,240,269,260,263]"
   ]
  },
  {
   "cell_type": "markdown",
   "metadata": {},
   "source": [
    "# Solution 1"
   ]
  },
  {
   "cell_type": "code",
   "execution_count": 52,
   "metadata": {},
   "outputs": [
    {
     "name": "stdout",
     "output_type": "stream",
     "text": [
      "1583\n"
     ]
    }
   ],
   "source": [
    "increases = 0\n",
    "for i in range(0, len(input)):\n",
    "    #print(input[i])\n",
    "    if int(input[i])>int(input[i-1]):\n",
    "        increases+=1\n",
    "\n",
    "print(increases)"
   ]
  },
  {
   "cell_type": "code",
   "execution_count": 47,
   "metadata": {},
   "outputs": [],
   "source": [
    "import numpy as np"
   ]
  },
  {
   "cell_type": "markdown",
   "metadata": {},
   "source": [
    "# Solution 2"
   ]
  },
  {
   "cell_type": "code",
   "execution_count": 56,
   "metadata": {},
   "outputs": [
    {
     "name": "stdout",
     "output_type": "stream",
     "text": [
      "1627\n"
     ]
    }
   ],
   "source": [
    "increases = 0\n",
    "lastRangeSum = 2000\n",
    "for i in range(len(input)):\n",
    "    if i >= 1998:\n",
    "        break\n",
    "    currentRangeSum = np.sum([int(input[i]),int(input[i+1]),int(input[i+2])])\n",
    "    if currentRangeSum>lastRangeSum:\n",
    "        increases += 1\n",
    "    lastRangeSum = currentRangeSum\n",
    "\n",
    "print(increases)"
   ]
  }
 ],
 "metadata": {
  "interpreter": {
   "hash": "7580925e5e780e8ea462bf7529acf84770cc494d97542bcdcccb4b8b27a43092"
  },
  "kernelspec": {
   "display_name": "Python 3.10.0 64-bit ('AoC2021_Day_1': virtualenv)",
   "language": "python",
   "name": "python3"
  },
  "language_info": {
   "codemirror_mode": {
    "name": "ipython",
    "version": 3
   },
   "file_extension": ".py",
   "mimetype": "text/x-python",
   "name": "python",
   "nbconvert_exporter": "python",
   "pygments_lexer": "ipython3",
   "version": "3.10.0"
  },
  "orig_nbformat": 4
 },
 "nbformat": 4,
 "nbformat_minor": 2
}
