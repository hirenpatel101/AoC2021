{
 "cells": [
  {
   "cell_type": "code",
   "execution_count": 277,
   "metadata": {},
   "outputs": [],
   "source": [
    "def ReadFileIntoList(filename):\n",
    "    with open(filename) as file:\n",
    "        lines = file.readlines()\n",
    "        lines = [line.rstrip() for line in lines]\n",
    "    return lines\n",
    "\n",
    "input = ReadFileIntoList(\"input.txt\")"
   ]
  },
  {
   "cell_type": "code",
   "execution_count": 278,
   "metadata": {},
   "outputs": [],
   "source": [
    "import numpy as np\n",
    "import pandas as pd"
   ]
  },
  {
   "cell_type": "code",
   "execution_count": 279,
   "metadata": {},
   "outputs": [],
   "source": [
    "sourceCoords = [line.split(' -> ')[0].split(',') for line in input]\n",
    "destCoords = [line.split(' -> ')[1].split(',') for line in input]"
   ]
  },
  {
   "cell_type": "code",
   "execution_count": 280,
   "metadata": {},
   "outputs": [],
   "source": [
    "for i in range(len(sourceCoords)):\n",
    "    sourceCoords[i][0] = int(sourceCoords[i][0])\n",
    "    sourceCoords[i][1] = int(sourceCoords[i][1])\n",
    "    destCoords[i][0] = int(destCoords[i][0])\n",
    "    destCoords[i][1] = int(destCoords[i][1])"
   ]
  },
  {
   "cell_type": "code",
   "execution_count": 281,
   "metadata": {},
   "outputs": [],
   "source": [
    "xMax = np.max([np.max([coord[0] for coord in sourceCoords]),np.max([coord[0] for coord in destCoords])])\n",
    "yMax = np.max([np.max([coord[1] for coord in sourceCoords]),np.max([coord[1] for coord in destCoords])])"
   ]
  },
  {
   "cell_type": "code",
   "execution_count": 282,
   "metadata": {},
   "outputs": [],
   "source": [
    "def CreateRangeFromCoords(sourceCoordInput, destCoordInput):\n",
    "    x1, y1, x2, y2 = sourceCoordInput[0],sourceCoordInput[1],destCoordInput[0],destCoordInput[1]\n",
    "    x,y = list(range(x1,x2+1)),list(range(y1,y2+1))\n",
    "    if x1 > x2:\n",
    "        x,y = list(range(x1,x2-1,-1)),list(range(y1,y2+1))\n",
    "        if y1 > y2:\n",
    "            x,y = list(range(x1,x2-1,-1)),list(range(y1,y2-1,-1))\n",
    "    if x1 <= x2:\n",
    "        x,y = list(range(x1,x2+1)),list(range(y1,y2+1))\n",
    "        if y1 > y2:\n",
    "            x,y = list(range(x1,x2+1)),list(range(y1,y2-1,-1))\n",
    "\n",
    "    if len(x) == len(y):\n",
    "        return x,y\n",
    "    else:\n",
    "        return (x, y * len(x)) if len(x) > len(y) else (x * len(y), y)"
   ]
  },
  {
   "cell_type": "markdown",
   "metadata": {},
   "source": [
    "# Solution 1"
   ]
  },
  {
   "cell_type": "code",
   "execution_count": 283,
   "metadata": {},
   "outputs": [
    {
     "data": {
      "text/plain": [
       "6841"
      ]
     },
     "execution_count": 283,
     "metadata": {},
     "output_type": "execute_result"
    }
   ],
   "source": [
    "map = [0] * (yMax + 1)\n",
    "for i in range(yMax + 1):\n",
    "    map[i] = [0] * (xMax + 1)\n",
    "for sourceCoord, destCoord in zip(sourceCoords,destCoords):\n",
    "    x1, y1, x2, y2 = sourceCoord[0],sourceCoord[1],destCoord[0],destCoord[1]\n",
    "    if x1 == x2 or y1 == y2:\n",
    "        xList,yList = CreateRangeFromCoords(sourceCoord, destCoord)\n",
    "        for i,j in zip(xList,yList):\n",
    "            map[j][i] += 1\n",
    "\n",
    "np.sum([np.sum([int(i >= 2) for i in line]) for line in map])"
   ]
  },
  {
   "cell_type": "markdown",
   "metadata": {},
   "source": [
    "# Solution 2"
   ]
  },
  {
   "cell_type": "code",
   "execution_count": 284,
   "metadata": {},
   "outputs": [
    {
     "data": {
      "text/plain": [
       "19258"
      ]
     },
     "execution_count": 284,
     "metadata": {},
     "output_type": "execute_result"
    }
   ],
   "source": [
    "map = [0] * (yMax + 1)\n",
    "for i in range(yMax + 1):\n",
    "    map[i] = [0] * (xMax + 1)\n",
    "for sourceCoord, destCoord in zip(sourceCoords,destCoords):\n",
    "    xList,yList = CreateRangeFromCoords(sourceCoord, destCoord)\n",
    "    for i,j in zip(xList,yList):\n",
    "        map[j][i] += 1\n",
    "\n",
    "np.sum([np.sum([int(i >= 2) for i in line]) for line in map])"
   ]
  }
 ],
 "metadata": {
  "interpreter": {
   "hash": "32248e988fc577bc5ca98bc94fbcad7829dbec5db44c4c5e3079ab3a2b3a12d9"
  },
  "kernelspec": {
   "display_name": "Python 3.10.0 64-bit ('AoC2021_Day_5': virtualenv)",
   "language": "python",
   "name": "python3"
  },
  "language_info": {
   "codemirror_mode": {
    "name": "ipython",
    "version": 3
   },
   "file_extension": ".py",
   "mimetype": "text/x-python",
   "name": "python",
   "nbconvert_exporter": "python",
   "pygments_lexer": "ipython3",
   "version": "3.10.0"
  },
  "orig_nbformat": 4
 },
 "nbformat": 4,
 "nbformat_minor": 2
}
