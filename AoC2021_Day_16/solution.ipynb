{
 "cells": [
  {
   "cell_type": "code",
   "execution_count": 1,
   "metadata": {},
   "outputs": [],
   "source": [
    "def ReadFileIntoList(testFile = False):\n",
    "    filename = 'input.txt'\n",
    "    if testFile:\n",
    "        filename = 'test.txt'\n",
    "    with open(filename) as file:\n",
    "        lines = file.readlines()\n",
    "        lines = [line.rstrip() for line in lines]\n",
    "    return lines"
   ]
  },
  {
   "cell_type": "code",
   "execution_count": 9,
   "metadata": {},
   "outputs": [],
   "source": [
    "import numpy as np"
   ]
  },
  {
   "cell_type": "code",
   "execution_count": 24,
   "metadata": {},
   "outputs": [],
   "source": [
    "hexDict = {\n",
    "    '0' : '0000',\n",
    "    '1' : '0001',\n",
    "    '2' : '0010',\n",
    "    '3' : '0011',\n",
    "    '4' : '0100',\n",
    "    '5' : '0101',\n",
    "    '6' : '0110',\n",
    "    '7' : '0111',\n",
    "    '8' : '1000',\n",
    "    '9' : '1001',\n",
    "    'A' : '1010',\n",
    "    'B' : '1011',\n",
    "    'C' : '1100',\n",
    "    'D' : '1101',\n",
    "    'E' : '1110',\n",
    "    'F' : '1111'\n",
    "}"
   ]
  },
  {
   "cell_type": "code",
   "execution_count": 22,
   "metadata": {},
   "outputs": [],
   "source": [
    "def GetBinaryList(testFile = False):\n",
    "    input = ReadFileIntoList(testFile)[0]\n",
    "    binList = []\n",
    "    for letter in input:\n",
    "        nibble = hexDict[letter]\n",
    "        for bit in nibble:\n",
    "            binList.append(bit)\n",
    "    return np.array(binList)"
   ]
  },
  {
   "cell_type": "code",
   "execution_count": 23,
   "metadata": {},
   "outputs": [],
   "source": [
    "binList = GetBinaryList(True)"
   ]
  },
  {
   "cell_type": "code",
   "execution_count": 26,
   "metadata": {},
   "outputs": [
    {
     "ename": "ValueError",
     "evalue": "zero-dimensional arrays cannot be concatenated",
     "output_type": "error",
     "traceback": [
      "\u001b[1;31m---------------------------------------------------------------------------\u001b[0m",
      "\u001b[1;31mValueError\u001b[0m                                Traceback (most recent call last)",
      "\u001b[1;32m~\\AppData\\Local\\Temp/ipykernel_14408/3970188421.py\u001b[0m in \u001b[0;36m<module>\u001b[1;34m\u001b[0m\n\u001b[1;32m----> 1\u001b[1;33m \u001b[0mnp\u001b[0m\u001b[1;33m.\u001b[0m\u001b[0mconcatenate\u001b[0m\u001b[1;33m(\u001b[0m\u001b[0mbinList\u001b[0m\u001b[1;33m[\u001b[0m\u001b[1;33m:\u001b[0m\u001b[1;36m3\u001b[0m\u001b[1;33m]\u001b[0m\u001b[1;33m)\u001b[0m\u001b[1;33m\u001b[0m\u001b[1;33m\u001b[0m\u001b[0m\n\u001b[0m",
      "\u001b[1;32m<__array_function__ internals>\u001b[0m in \u001b[0;36mconcatenate\u001b[1;34m(*args, **kwargs)\u001b[0m\n",
      "\u001b[1;31mValueError\u001b[0m: zero-dimensional arrays cannot be concatenated"
     ]
    }
   ],
   "source": [
    "np.concatenate(binList[:3])"
   ]
  },
  {
   "cell_type": "code",
   "execution_count": 30,
   "metadata": {},
   "outputs": [
    {
     "data": {
      "text/plain": [
       "1"
      ]
     },
     "execution_count": 30,
     "metadata": {},
     "output_type": "execute_result"
    }
   ],
   "source": [
    "version = int(''.join(binList[:3]),2)"
   ]
  },
  {
   "cell_type": "code",
   "execution_count": 67,
   "metadata": {},
   "outputs": [],
   "source": [
    "def GetLiteralValue(currentPosn, binList):\n",
    "    reachedEnd = False\n",
    "    binString = []\n",
    "    while(not reachedEnd):\n",
    "        if binList[currentPosn] == 1:\n",
    "            section = binList[currentPosn+1:currentPosn+5]\n",
    "            binString.append(section)\n",
    "            currentPosn += 5\n",
    "        else:\n",
    "            section = binList[currentPosn+1:currentPosn+5]\n",
    "            binString.append(section)\n",
    "            currentPosn += 5\n",
    "            reachedEnd = True\n",
    "    padding = 4 - (((5 * len(binString)) + 6) % 4)\n",
    "    if padding == 4:\n",
    "        padding = 0\n",
    "    currentPosn += padding\n",
    "    return int(''.join(section),2), currentPosn"
   ]
  },
  {
   "cell_type": "code",
   "execution_count": null,
   "metadata": {},
   "outputs": [],
   "source": [
    "6 + (5 * x)\n",
    "6 + 5 + 1\n",
    "6 + 10 + 0\n",
    "6 + 15 + 3\n",
    "6 + 20 + 2\n",
    "6 + 25 + 1"
   ]
  },
  {
   "cell_type": "code",
   "execution_count": 65,
   "metadata": {},
   "outputs": [
    {
     "data": {
      "text/plain": [
       "3"
      ]
     },
     "execution_count": 65,
     "metadata": {},
     "output_type": "execute_result"
    }
   ],
   "source": [
    "4 - (((5 * 3) + 6) % 4)"
   ]
  },
  {
   "cell_type": "code",
   "execution_count": 44,
   "metadata": {},
   "outputs": [],
   "source": [
    "def GetVersionAndTypeId(currentPosn, binList):\n",
    "    version = int(''.join(binList[currentPosn:currentPosn + 3]),2)\n",
    "    currentPosn += 3\n",
    "    typeId = int(''.join(binList[currentPosn:currentPosn + 3]),2)\n",
    "    currentPosn += 3\n",
    "    return version, typeId, currentPosn"
   ]
  },
  {
   "cell_type": "code",
   "execution_count": 43,
   "metadata": {},
   "outputs": [
    {
     "name": "stderr",
     "output_type": "stream",
     "text": [
      "\n",
      "KeyboardInterrupt\n",
      "\n"
     ]
    }
   ],
   "source": [
    "binList = GetBinaryList(True)\n",
    "currentPosn = 0\n",
    "reachedEnd = False\n",
    "while(not reachedEnd):\n",
    "    version, typeId, currentPosn = GetVersionAndTypeId(currentPosn, binList)\n",
    "    if typeId == 4: #Literal value\n",
    "        value, currentPosn = GetLiteralValue(currentPosn, binList)\n",
    "    else:\n",
    "        lengthTypeId = binList[currentPosn]\n",
    "        currentPosn += 1\n",
    "        if lengthTypeId == 0:\n",
    "            print(\"Got\")\n",
    "        else:\n",
    "            print(\"Here\")\n",
    "        "
   ]
  },
  {
   "cell_type": "code",
   "execution_count": 66,
   "metadata": {},
   "outputs": [],
   "source": [
    "def GetVersionTotal(currentPosn, binList):\n",
    "    totalVersion = 0\n",
    "    version, typeId, currentPosn = GetVersionAndTypeId(currentPosn, binList)\n",
    "    totalVersion += version\n",
    "    if typeId == 4: #Literal value\n",
    "        value, currentPosn = GetLiteralValue(currentPosn, binList)\n",
    "    else:\n",
    "        lengthTypeId = binList[currentPosn]\n",
    "        currentPosn += 1\n",
    "        if lengthTypeId == '0':\n",
    "            bitLength = int(''.join(binList[currentPosn:currentPosn+15]),2)\n",
    "            currentPosn += 15\n",
    "            endLimit = currentPosn + bitLength\n",
    "            while(currentPosn < endLimit):\n",
    "                version, currentPosn = GetVersionTotal(currentPosn,binList)\n",
    "                totalVersion += version\n",
    "        else:\n",
    "            numberOfSubPackets = int(''.join(binList[currentPosn:currentPosn+11]),2)\n",
    "            currentPosn += 11\n",
    "            for i in range(numberOfSubPackets):\n",
    "                version, currentPosn = GetVersionTotal(currentPosn,binList)\n",
    "                totalVersion += version\n",
    "    return totalVersion, currentPosn"
   ]
  },
  {
   "cell_type": "code",
   "execution_count": 69,
   "metadata": {},
   "outputs": [
    {
     "ename": "ValueError",
     "evalue": "invalid literal for int() with base 2: ''",
     "output_type": "error",
     "traceback": [
      "\u001b[1;31m---------------------------------------------------------------------------\u001b[0m",
      "\u001b[1;31mValueError\u001b[0m                                Traceback (most recent call last)",
      "\u001b[1;32m~\\AppData\\Local\\Temp/ipykernel_14408/1266799432.py\u001b[0m in \u001b[0;36m<module>\u001b[1;34m\u001b[0m\n\u001b[0;32m      1\u001b[0m \u001b[0mbinList\u001b[0m \u001b[1;33m=\u001b[0m \u001b[0mGetBinaryList\u001b[0m\u001b[1;33m(\u001b[0m\u001b[1;32mTrue\u001b[0m\u001b[1;33m)\u001b[0m\u001b[1;33m\u001b[0m\u001b[1;33m\u001b[0m\u001b[0m\n\u001b[0;32m      2\u001b[0m \u001b[0mcurrentPosn\u001b[0m \u001b[1;33m=\u001b[0m \u001b[1;36m0\u001b[0m\u001b[1;33m\u001b[0m\u001b[1;33m\u001b[0m\u001b[0m\n\u001b[1;32m----> 3\u001b[1;33m \u001b[0mGetVersionTotal\u001b[0m\u001b[1;33m(\u001b[0m\u001b[0mcurrentPosn\u001b[0m\u001b[1;33m,\u001b[0m\u001b[0mbinList\u001b[0m\u001b[1;33m)\u001b[0m\u001b[1;33m\u001b[0m\u001b[1;33m\u001b[0m\u001b[0m\n\u001b[0m",
      "\u001b[1;32m~\\AppData\\Local\\Temp/ipykernel_14408/1568134501.py\u001b[0m in \u001b[0;36mGetVersionTotal\u001b[1;34m(currentPosn, binList)\u001b[0m\n\u001b[0;32m     19\u001b[0m             \u001b[0mcurrentPosn\u001b[0m \u001b[1;33m+=\u001b[0m \u001b[1;36m11\u001b[0m\u001b[1;33m\u001b[0m\u001b[1;33m\u001b[0m\u001b[0m\n\u001b[0;32m     20\u001b[0m             \u001b[1;32mfor\u001b[0m \u001b[0mi\u001b[0m \u001b[1;32min\u001b[0m \u001b[0mrange\u001b[0m\u001b[1;33m(\u001b[0m\u001b[0mnumberOfSubPackets\u001b[0m\u001b[1;33m)\u001b[0m\u001b[1;33m:\u001b[0m\u001b[1;33m\u001b[0m\u001b[1;33m\u001b[0m\u001b[0m\n\u001b[1;32m---> 21\u001b[1;33m                 \u001b[0mversion\u001b[0m\u001b[1;33m,\u001b[0m \u001b[0mcurrentPosn\u001b[0m \u001b[1;33m=\u001b[0m \u001b[0mGetVersionTotal\u001b[0m\u001b[1;33m(\u001b[0m\u001b[0mcurrentPosn\u001b[0m\u001b[1;33m,\u001b[0m\u001b[0mbinList\u001b[0m\u001b[1;33m)\u001b[0m\u001b[1;33m\u001b[0m\u001b[1;33m\u001b[0m\u001b[0m\n\u001b[0m\u001b[0;32m     22\u001b[0m                 \u001b[0mtotalVersion\u001b[0m \u001b[1;33m+=\u001b[0m \u001b[0mversion\u001b[0m\u001b[1;33m\u001b[0m\u001b[1;33m\u001b[0m\u001b[0m\n\u001b[0;32m     23\u001b[0m     \u001b[1;32mreturn\u001b[0m \u001b[0mtotalVersion\u001b[0m\u001b[1;33m,\u001b[0m \u001b[0mcurrentPosn\u001b[0m\u001b[1;33m\u001b[0m\u001b[1;33m\u001b[0m\u001b[0m\n",
      "\u001b[1;32m~\\AppData\\Local\\Temp/ipykernel_14408/1568134501.py\u001b[0m in \u001b[0;36mGetVersionTotal\u001b[1;34m(currentPosn, binList)\u001b[0m\n\u001b[0;32m     13\u001b[0m             \u001b[0mendLimit\u001b[0m \u001b[1;33m=\u001b[0m \u001b[0mcurrentPosn\u001b[0m \u001b[1;33m+\u001b[0m \u001b[0mbitLength\u001b[0m\u001b[1;33m\u001b[0m\u001b[1;33m\u001b[0m\u001b[0m\n\u001b[0;32m     14\u001b[0m             \u001b[1;32mwhile\u001b[0m\u001b[1;33m(\u001b[0m\u001b[0mcurrentPosn\u001b[0m \u001b[1;33m<\u001b[0m \u001b[0mendLimit\u001b[0m\u001b[1;33m)\u001b[0m\u001b[1;33m:\u001b[0m\u001b[1;33m\u001b[0m\u001b[1;33m\u001b[0m\u001b[0m\n\u001b[1;32m---> 15\u001b[1;33m                 \u001b[0mversion\u001b[0m\u001b[1;33m,\u001b[0m \u001b[0mcurrentPosn\u001b[0m \u001b[1;33m=\u001b[0m \u001b[0mGetVersionTotal\u001b[0m\u001b[1;33m(\u001b[0m\u001b[0mcurrentPosn\u001b[0m\u001b[1;33m,\u001b[0m\u001b[0mbinList\u001b[0m\u001b[1;33m)\u001b[0m\u001b[1;33m\u001b[0m\u001b[1;33m\u001b[0m\u001b[0m\n\u001b[0m\u001b[0;32m     16\u001b[0m                 \u001b[0mtotalVersion\u001b[0m \u001b[1;33m+=\u001b[0m \u001b[0mversion\u001b[0m\u001b[1;33m\u001b[0m\u001b[1;33m\u001b[0m\u001b[0m\n\u001b[0;32m     17\u001b[0m         \u001b[1;32melse\u001b[0m\u001b[1;33m:\u001b[0m\u001b[1;33m\u001b[0m\u001b[1;33m\u001b[0m\u001b[0m\n",
      "\u001b[1;32m~\\AppData\\Local\\Temp/ipykernel_14408/1568134501.py\u001b[0m in \u001b[0;36mGetVersionTotal\u001b[1;34m(currentPosn, binList)\u001b[0m\n\u001b[0;32m     19\u001b[0m             \u001b[0mcurrentPosn\u001b[0m \u001b[1;33m+=\u001b[0m \u001b[1;36m11\u001b[0m\u001b[1;33m\u001b[0m\u001b[1;33m\u001b[0m\u001b[0m\n\u001b[0;32m     20\u001b[0m             \u001b[1;32mfor\u001b[0m \u001b[0mi\u001b[0m \u001b[1;32min\u001b[0m \u001b[0mrange\u001b[0m\u001b[1;33m(\u001b[0m\u001b[0mnumberOfSubPackets\u001b[0m\u001b[1;33m)\u001b[0m\u001b[1;33m:\u001b[0m\u001b[1;33m\u001b[0m\u001b[1;33m\u001b[0m\u001b[0m\n\u001b[1;32m---> 21\u001b[1;33m                 \u001b[0mversion\u001b[0m\u001b[1;33m,\u001b[0m \u001b[0mcurrentPosn\u001b[0m \u001b[1;33m=\u001b[0m \u001b[0mGetVersionTotal\u001b[0m\u001b[1;33m(\u001b[0m\u001b[0mcurrentPosn\u001b[0m\u001b[1;33m,\u001b[0m\u001b[0mbinList\u001b[0m\u001b[1;33m)\u001b[0m\u001b[1;33m\u001b[0m\u001b[1;33m\u001b[0m\u001b[0m\n\u001b[0m\u001b[0;32m     22\u001b[0m                 \u001b[0mtotalVersion\u001b[0m \u001b[1;33m+=\u001b[0m \u001b[0mversion\u001b[0m\u001b[1;33m\u001b[0m\u001b[1;33m\u001b[0m\u001b[0m\n\u001b[0;32m     23\u001b[0m     \u001b[1;32mreturn\u001b[0m \u001b[0mtotalVersion\u001b[0m\u001b[1;33m,\u001b[0m \u001b[0mcurrentPosn\u001b[0m\u001b[1;33m\u001b[0m\u001b[1;33m\u001b[0m\u001b[0m\n",
      "\u001b[1;32m~\\AppData\\Local\\Temp/ipykernel_14408/1568134501.py\u001b[0m in \u001b[0;36mGetVersionTotal\u001b[1;34m(currentPosn, binList)\u001b[0m\n\u001b[0;32m     13\u001b[0m             \u001b[0mendLimit\u001b[0m \u001b[1;33m=\u001b[0m \u001b[0mcurrentPosn\u001b[0m \u001b[1;33m+\u001b[0m \u001b[0mbitLength\u001b[0m\u001b[1;33m\u001b[0m\u001b[1;33m\u001b[0m\u001b[0m\n\u001b[0;32m     14\u001b[0m             \u001b[1;32mwhile\u001b[0m\u001b[1;33m(\u001b[0m\u001b[0mcurrentPosn\u001b[0m \u001b[1;33m<\u001b[0m \u001b[0mendLimit\u001b[0m\u001b[1;33m)\u001b[0m\u001b[1;33m:\u001b[0m\u001b[1;33m\u001b[0m\u001b[1;33m\u001b[0m\u001b[0m\n\u001b[1;32m---> 15\u001b[1;33m                 \u001b[0mversion\u001b[0m\u001b[1;33m,\u001b[0m \u001b[0mcurrentPosn\u001b[0m \u001b[1;33m=\u001b[0m \u001b[0mGetVersionTotal\u001b[0m\u001b[1;33m(\u001b[0m\u001b[0mcurrentPosn\u001b[0m\u001b[1;33m,\u001b[0m\u001b[0mbinList\u001b[0m\u001b[1;33m)\u001b[0m\u001b[1;33m\u001b[0m\u001b[1;33m\u001b[0m\u001b[0m\n\u001b[0m\u001b[0;32m     16\u001b[0m                 \u001b[0mtotalVersion\u001b[0m \u001b[1;33m+=\u001b[0m \u001b[0mversion\u001b[0m\u001b[1;33m\u001b[0m\u001b[1;33m\u001b[0m\u001b[0m\n\u001b[0;32m     17\u001b[0m         \u001b[1;32melse\u001b[0m\u001b[1;33m:\u001b[0m\u001b[1;33m\u001b[0m\u001b[1;33m\u001b[0m\u001b[0m\n",
      "\u001b[1;32m~\\AppData\\Local\\Temp/ipykernel_14408/1568134501.py\u001b[0m in \u001b[0;36mGetVersionTotal\u001b[1;34m(currentPosn, binList)\u001b[0m\n\u001b[0;32m     19\u001b[0m             \u001b[0mcurrentPosn\u001b[0m \u001b[1;33m+=\u001b[0m \u001b[1;36m11\u001b[0m\u001b[1;33m\u001b[0m\u001b[1;33m\u001b[0m\u001b[0m\n\u001b[0;32m     20\u001b[0m             \u001b[1;32mfor\u001b[0m \u001b[0mi\u001b[0m \u001b[1;32min\u001b[0m \u001b[0mrange\u001b[0m\u001b[1;33m(\u001b[0m\u001b[0mnumberOfSubPackets\u001b[0m\u001b[1;33m)\u001b[0m\u001b[1;33m:\u001b[0m\u001b[1;33m\u001b[0m\u001b[1;33m\u001b[0m\u001b[0m\n\u001b[1;32m---> 21\u001b[1;33m                 \u001b[0mversion\u001b[0m\u001b[1;33m,\u001b[0m \u001b[0mcurrentPosn\u001b[0m \u001b[1;33m=\u001b[0m \u001b[0mGetVersionTotal\u001b[0m\u001b[1;33m(\u001b[0m\u001b[0mcurrentPosn\u001b[0m\u001b[1;33m,\u001b[0m\u001b[0mbinList\u001b[0m\u001b[1;33m)\u001b[0m\u001b[1;33m\u001b[0m\u001b[1;33m\u001b[0m\u001b[0m\n\u001b[0m\u001b[0;32m     22\u001b[0m                 \u001b[0mtotalVersion\u001b[0m \u001b[1;33m+=\u001b[0m \u001b[0mversion\u001b[0m\u001b[1;33m\u001b[0m\u001b[1;33m\u001b[0m\u001b[0m\n\u001b[0;32m     23\u001b[0m     \u001b[1;32mreturn\u001b[0m \u001b[0mtotalVersion\u001b[0m\u001b[1;33m,\u001b[0m \u001b[0mcurrentPosn\u001b[0m\u001b[1;33m\u001b[0m\u001b[1;33m\u001b[0m\u001b[0m\n",
      "\u001b[1;32m~\\AppData\\Local\\Temp/ipykernel_14408/1568134501.py\u001b[0m in \u001b[0;36mGetVersionTotal\u001b[1;34m(currentPosn, binList)\u001b[0m\n\u001b[0;32m      1\u001b[0m \u001b[1;32mdef\u001b[0m \u001b[0mGetVersionTotal\u001b[0m\u001b[1;33m(\u001b[0m\u001b[0mcurrentPosn\u001b[0m\u001b[1;33m,\u001b[0m \u001b[0mbinList\u001b[0m\u001b[1;33m)\u001b[0m\u001b[1;33m:\u001b[0m\u001b[1;33m\u001b[0m\u001b[1;33m\u001b[0m\u001b[0m\n\u001b[0;32m      2\u001b[0m     \u001b[0mtotalVersion\u001b[0m \u001b[1;33m=\u001b[0m \u001b[1;36m0\u001b[0m\u001b[1;33m\u001b[0m\u001b[1;33m\u001b[0m\u001b[0m\n\u001b[1;32m----> 3\u001b[1;33m     \u001b[0mversion\u001b[0m\u001b[1;33m,\u001b[0m \u001b[0mtypeId\u001b[0m\u001b[1;33m,\u001b[0m \u001b[0mcurrentPosn\u001b[0m \u001b[1;33m=\u001b[0m \u001b[0mGetVersionAndTypeId\u001b[0m\u001b[1;33m(\u001b[0m\u001b[0mcurrentPosn\u001b[0m\u001b[1;33m,\u001b[0m \u001b[0mbinList\u001b[0m\u001b[1;33m)\u001b[0m\u001b[1;33m\u001b[0m\u001b[1;33m\u001b[0m\u001b[0m\n\u001b[0m\u001b[0;32m      4\u001b[0m     \u001b[0mtotalVersion\u001b[0m \u001b[1;33m+=\u001b[0m \u001b[0mversion\u001b[0m\u001b[1;33m\u001b[0m\u001b[1;33m\u001b[0m\u001b[0m\n\u001b[0;32m      5\u001b[0m     \u001b[1;32mif\u001b[0m \u001b[0mtypeId\u001b[0m \u001b[1;33m==\u001b[0m \u001b[1;36m4\u001b[0m\u001b[1;33m:\u001b[0m \u001b[1;31m#Literal value\u001b[0m\u001b[1;33m\u001b[0m\u001b[1;33m\u001b[0m\u001b[0m\n",
      "\u001b[1;32m~\\AppData\\Local\\Temp/ipykernel_14408/2686406038.py\u001b[0m in \u001b[0;36mGetVersionAndTypeId\u001b[1;34m(currentPosn, binList)\u001b[0m\n\u001b[0;32m      1\u001b[0m \u001b[1;32mdef\u001b[0m \u001b[0mGetVersionAndTypeId\u001b[0m\u001b[1;33m(\u001b[0m\u001b[0mcurrentPosn\u001b[0m\u001b[1;33m,\u001b[0m \u001b[0mbinList\u001b[0m\u001b[1;33m)\u001b[0m\u001b[1;33m:\u001b[0m\u001b[1;33m\u001b[0m\u001b[1;33m\u001b[0m\u001b[0m\n\u001b[1;32m----> 2\u001b[1;33m     \u001b[0mversion\u001b[0m \u001b[1;33m=\u001b[0m \u001b[0mint\u001b[0m\u001b[1;33m(\u001b[0m\u001b[1;34m''\u001b[0m\u001b[1;33m.\u001b[0m\u001b[0mjoin\u001b[0m\u001b[1;33m(\u001b[0m\u001b[0mbinList\u001b[0m\u001b[1;33m[\u001b[0m\u001b[0mcurrentPosn\u001b[0m\u001b[1;33m:\u001b[0m\u001b[0mcurrentPosn\u001b[0m \u001b[1;33m+\u001b[0m \u001b[1;36m3\u001b[0m\u001b[1;33m]\u001b[0m\u001b[1;33m)\u001b[0m\u001b[1;33m,\u001b[0m\u001b[1;36m2\u001b[0m\u001b[1;33m)\u001b[0m\u001b[1;33m\u001b[0m\u001b[1;33m\u001b[0m\u001b[0m\n\u001b[0m\u001b[0;32m      3\u001b[0m     \u001b[0mcurrentPosn\u001b[0m \u001b[1;33m+=\u001b[0m \u001b[1;36m3\u001b[0m\u001b[1;33m\u001b[0m\u001b[1;33m\u001b[0m\u001b[0m\n\u001b[0;32m      4\u001b[0m     \u001b[0mtypeId\u001b[0m \u001b[1;33m=\u001b[0m \u001b[0mint\u001b[0m\u001b[1;33m(\u001b[0m\u001b[1;34m''\u001b[0m\u001b[1;33m.\u001b[0m\u001b[0mjoin\u001b[0m\u001b[1;33m(\u001b[0m\u001b[0mbinList\u001b[0m\u001b[1;33m[\u001b[0m\u001b[0mcurrentPosn\u001b[0m\u001b[1;33m:\u001b[0m\u001b[0mcurrentPosn\u001b[0m \u001b[1;33m+\u001b[0m \u001b[1;36m3\u001b[0m\u001b[1;33m]\u001b[0m\u001b[1;33m)\u001b[0m\u001b[1;33m,\u001b[0m\u001b[1;36m2\u001b[0m\u001b[1;33m)\u001b[0m\u001b[1;33m\u001b[0m\u001b[1;33m\u001b[0m\u001b[0m\n\u001b[0;32m      5\u001b[0m     \u001b[0mcurrentPosn\u001b[0m \u001b[1;33m+=\u001b[0m \u001b[1;36m3\u001b[0m\u001b[1;33m\u001b[0m\u001b[1;33m\u001b[0m\u001b[0m\n",
      "\u001b[1;31mValueError\u001b[0m: invalid literal for int() with base 2: ''"
     ]
    }
   ],
   "source": [
    "binList = GetBinaryList(True)\n",
    "currentPosn = 0\n",
    "GetVersionTotal(currentPosn,binList)"
   ]
  },
  {
   "cell_type": "code",
   "execution_count": 62,
   "metadata": {},
   "outputs": [
    {
     "ename": "ValueError",
     "evalue": "invalid literal for int() with base 2: ''",
     "output_type": "error",
     "traceback": [
      "\u001b[1;31m---------------------------------------------------------------------------\u001b[0m",
      "\u001b[1;31mValueError\u001b[0m                                Traceback (most recent call last)",
      "\u001b[1;32m~\\AppData\\Local\\Temp/ipykernel_14408/3591073797.py\u001b[0m in \u001b[0;36m<module>\u001b[1;34m\u001b[0m\n\u001b[0;32m     20\u001b[0m         \u001b[0mcurrentPosn\u001b[0m \u001b[1;33m+=\u001b[0m \u001b[1;36m11\u001b[0m\u001b[1;33m\u001b[0m\u001b[1;33m\u001b[0m\u001b[0m\n\u001b[0;32m     21\u001b[0m         \u001b[1;32mfor\u001b[0m \u001b[0mi\u001b[0m \u001b[1;32min\u001b[0m \u001b[0mrange\u001b[0m\u001b[1;33m(\u001b[0m\u001b[0mnumberOfSubPackets\u001b[0m\u001b[1;33m)\u001b[0m\u001b[1;33m:\u001b[0m\u001b[1;33m\u001b[0m\u001b[1;33m\u001b[0m\u001b[0m\n\u001b[1;32m---> 22\u001b[1;33m             \u001b[0mversion\u001b[0m\u001b[1;33m,\u001b[0m \u001b[0mcurrentPosn\u001b[0m \u001b[1;33m=\u001b[0m \u001b[0mGetVersionTotal\u001b[0m\u001b[1;33m(\u001b[0m\u001b[0mcurrentPosn\u001b[0m\u001b[1;33m,\u001b[0m\u001b[0mbinList\u001b[0m\u001b[1;33m)\u001b[0m\u001b[1;33m\u001b[0m\u001b[1;33m\u001b[0m\u001b[0m\n\u001b[0m\u001b[0;32m     23\u001b[0m             \u001b[0mtotalVersion\u001b[0m \u001b[1;33m+=\u001b[0m \u001b[0mversion\u001b[0m\u001b[1;33m\u001b[0m\u001b[1;33m\u001b[0m\u001b[0m\n",
      "\u001b[1;32m~\\AppData\\Local\\Temp/ipykernel_14408/2855929976.py\u001b[0m in \u001b[0;36mGetVersionTotal\u001b[1;34m(currentPosn, binList)\u001b[0m\n\u001b[0;32m     19\u001b[0m             \u001b[0mcurrentPosn\u001b[0m \u001b[1;33m+=\u001b[0m \u001b[1;36m11\u001b[0m\u001b[1;33m\u001b[0m\u001b[1;33m\u001b[0m\u001b[0m\n\u001b[0;32m     20\u001b[0m             \u001b[1;32mfor\u001b[0m \u001b[0mi\u001b[0m \u001b[1;32min\u001b[0m \u001b[0mrange\u001b[0m\u001b[1;33m(\u001b[0m\u001b[0mnumberOfSubPackets\u001b[0m\u001b[1;33m)\u001b[0m\u001b[1;33m:\u001b[0m\u001b[1;33m\u001b[0m\u001b[1;33m\u001b[0m\u001b[0m\n\u001b[1;32m---> 21\u001b[1;33m                 \u001b[0mversion\u001b[0m\u001b[1;33m,\u001b[0m \u001b[0mcurrentPosn\u001b[0m \u001b[1;33m=\u001b[0m \u001b[0mGetVersionTotal\u001b[0m\u001b[1;33m(\u001b[0m\u001b[0mcurrentPosn\u001b[0m\u001b[1;33m,\u001b[0m\u001b[0mbinList\u001b[0m\u001b[1;33m)\u001b[0m\u001b[1;33m\u001b[0m\u001b[1;33m\u001b[0m\u001b[0m\n\u001b[0m\u001b[0;32m     22\u001b[0m                 \u001b[0mtotalVersion\u001b[0m \u001b[1;33m+=\u001b[0m \u001b[0mversion\u001b[0m\u001b[1;33m\u001b[0m\u001b[1;33m\u001b[0m\u001b[0m\n\u001b[0;32m     23\u001b[0m     \u001b[1;32mreturn\u001b[0m \u001b[0mtotalVersion\u001b[0m\u001b[1;33m,\u001b[0m \u001b[0mcurrentPosn\u001b[0m\u001b[1;33m\u001b[0m\u001b[1;33m\u001b[0m\u001b[0m\n",
      "\u001b[1;32m~\\AppData\\Local\\Temp/ipykernel_14408/2855929976.py\u001b[0m in \u001b[0;36mGetVersionTotal\u001b[1;34m(currentPosn, binList)\u001b[0m\n\u001b[0;32m     13\u001b[0m             \u001b[0mendLimit\u001b[0m \u001b[1;33m=\u001b[0m \u001b[0mcurrentPosn\u001b[0m \u001b[1;33m+\u001b[0m \u001b[0mbitLength\u001b[0m\u001b[1;33m\u001b[0m\u001b[1;33m\u001b[0m\u001b[0m\n\u001b[0;32m     14\u001b[0m             \u001b[1;32mwhile\u001b[0m\u001b[1;33m(\u001b[0m\u001b[0mcurrentPosn\u001b[0m \u001b[1;33m<\u001b[0m \u001b[0mendLimit\u001b[0m\u001b[1;33m)\u001b[0m\u001b[1;33m:\u001b[0m\u001b[1;33m\u001b[0m\u001b[1;33m\u001b[0m\u001b[0m\n\u001b[1;32m---> 15\u001b[1;33m                 \u001b[0mversion\u001b[0m\u001b[1;33m,\u001b[0m \u001b[0mcurrentPosn\u001b[0m \u001b[1;33m=\u001b[0m \u001b[0mGetVersionTotal\u001b[0m\u001b[1;33m(\u001b[0m\u001b[0mcurrentPosn\u001b[0m\u001b[1;33m,\u001b[0m\u001b[0mbinList\u001b[0m\u001b[1;33m)\u001b[0m\u001b[1;33m\u001b[0m\u001b[1;33m\u001b[0m\u001b[0m\n\u001b[0m\u001b[0;32m     16\u001b[0m                 \u001b[0mtotalVersion\u001b[0m \u001b[1;33m+=\u001b[0m \u001b[0mversion\u001b[0m\u001b[1;33m\u001b[0m\u001b[1;33m\u001b[0m\u001b[0m\n\u001b[0;32m     17\u001b[0m         \u001b[1;32melse\u001b[0m\u001b[1;33m:\u001b[0m\u001b[1;33m\u001b[0m\u001b[1;33m\u001b[0m\u001b[0m\n",
      "\u001b[1;32m~\\AppData\\Local\\Temp/ipykernel_14408/2855929976.py\u001b[0m in \u001b[0;36mGetVersionTotal\u001b[1;34m(currentPosn, binList)\u001b[0m\n\u001b[0;32m     13\u001b[0m             \u001b[0mendLimit\u001b[0m \u001b[1;33m=\u001b[0m \u001b[0mcurrentPosn\u001b[0m \u001b[1;33m+\u001b[0m \u001b[0mbitLength\u001b[0m\u001b[1;33m\u001b[0m\u001b[1;33m\u001b[0m\u001b[0m\n\u001b[0;32m     14\u001b[0m             \u001b[1;32mwhile\u001b[0m\u001b[1;33m(\u001b[0m\u001b[0mcurrentPosn\u001b[0m \u001b[1;33m<\u001b[0m \u001b[0mendLimit\u001b[0m\u001b[1;33m)\u001b[0m\u001b[1;33m:\u001b[0m\u001b[1;33m\u001b[0m\u001b[1;33m\u001b[0m\u001b[0m\n\u001b[1;32m---> 15\u001b[1;33m                 \u001b[0mversion\u001b[0m\u001b[1;33m,\u001b[0m \u001b[0mcurrentPosn\u001b[0m \u001b[1;33m=\u001b[0m \u001b[0mGetVersionTotal\u001b[0m\u001b[1;33m(\u001b[0m\u001b[0mcurrentPosn\u001b[0m\u001b[1;33m,\u001b[0m\u001b[0mbinList\u001b[0m\u001b[1;33m)\u001b[0m\u001b[1;33m\u001b[0m\u001b[1;33m\u001b[0m\u001b[0m\n\u001b[0m\u001b[0;32m     16\u001b[0m                 \u001b[0mtotalVersion\u001b[0m \u001b[1;33m+=\u001b[0m \u001b[0mversion\u001b[0m\u001b[1;33m\u001b[0m\u001b[1;33m\u001b[0m\u001b[0m\n\u001b[0;32m     17\u001b[0m         \u001b[1;32melse\u001b[0m\u001b[1;33m:\u001b[0m\u001b[1;33m\u001b[0m\u001b[1;33m\u001b[0m\u001b[0m\n",
      "\u001b[1;32m~\\AppData\\Local\\Temp/ipykernel_14408/2855929976.py\u001b[0m in \u001b[0;36mGetVersionTotal\u001b[1;34m(currentPosn, binList)\u001b[0m\n\u001b[0;32m      1\u001b[0m \u001b[1;32mdef\u001b[0m \u001b[0mGetVersionTotal\u001b[0m\u001b[1;33m(\u001b[0m\u001b[0mcurrentPosn\u001b[0m\u001b[1;33m,\u001b[0m \u001b[0mbinList\u001b[0m\u001b[1;33m)\u001b[0m\u001b[1;33m:\u001b[0m\u001b[1;33m\u001b[0m\u001b[1;33m\u001b[0m\u001b[0m\n\u001b[0;32m      2\u001b[0m     \u001b[0mtotalVersion\u001b[0m \u001b[1;33m=\u001b[0m \u001b[1;36m0\u001b[0m\u001b[1;33m\u001b[0m\u001b[1;33m\u001b[0m\u001b[0m\n\u001b[1;32m----> 3\u001b[1;33m     \u001b[0mversion\u001b[0m\u001b[1;33m,\u001b[0m \u001b[0mtypeId\u001b[0m\u001b[1;33m,\u001b[0m \u001b[0mcurrentPosn\u001b[0m \u001b[1;33m=\u001b[0m \u001b[0mGetVersionAndTypeId\u001b[0m\u001b[1;33m(\u001b[0m\u001b[0mcurrentPosn\u001b[0m\u001b[1;33m,\u001b[0m \u001b[0mbinList\u001b[0m\u001b[1;33m)\u001b[0m\u001b[1;33m\u001b[0m\u001b[1;33m\u001b[0m\u001b[0m\n\u001b[0m\u001b[0;32m      4\u001b[0m     \u001b[0mtotalVersion\u001b[0m \u001b[1;33m+=\u001b[0m \u001b[0mversion\u001b[0m\u001b[1;33m\u001b[0m\u001b[1;33m\u001b[0m\u001b[0m\n\u001b[0;32m      5\u001b[0m     \u001b[1;32mif\u001b[0m \u001b[0mtypeId\u001b[0m \u001b[1;33m==\u001b[0m \u001b[1;34m'4'\u001b[0m\u001b[1;33m:\u001b[0m \u001b[1;31m#Literal value\u001b[0m\u001b[1;33m\u001b[0m\u001b[1;33m\u001b[0m\u001b[0m\n",
      "\u001b[1;32m~\\AppData\\Local\\Temp/ipykernel_14408/2686406038.py\u001b[0m in \u001b[0;36mGetVersionAndTypeId\u001b[1;34m(currentPosn, binList)\u001b[0m\n\u001b[0;32m      1\u001b[0m \u001b[1;32mdef\u001b[0m \u001b[0mGetVersionAndTypeId\u001b[0m\u001b[1;33m(\u001b[0m\u001b[0mcurrentPosn\u001b[0m\u001b[1;33m,\u001b[0m \u001b[0mbinList\u001b[0m\u001b[1;33m)\u001b[0m\u001b[1;33m:\u001b[0m\u001b[1;33m\u001b[0m\u001b[1;33m\u001b[0m\u001b[0m\n\u001b[1;32m----> 2\u001b[1;33m     \u001b[0mversion\u001b[0m \u001b[1;33m=\u001b[0m \u001b[0mint\u001b[0m\u001b[1;33m(\u001b[0m\u001b[1;34m''\u001b[0m\u001b[1;33m.\u001b[0m\u001b[0mjoin\u001b[0m\u001b[1;33m(\u001b[0m\u001b[0mbinList\u001b[0m\u001b[1;33m[\u001b[0m\u001b[0mcurrentPosn\u001b[0m\u001b[1;33m:\u001b[0m\u001b[0mcurrentPosn\u001b[0m \u001b[1;33m+\u001b[0m \u001b[1;36m3\u001b[0m\u001b[1;33m]\u001b[0m\u001b[1;33m)\u001b[0m\u001b[1;33m,\u001b[0m\u001b[1;36m2\u001b[0m\u001b[1;33m)\u001b[0m\u001b[1;33m\u001b[0m\u001b[1;33m\u001b[0m\u001b[0m\n\u001b[0m\u001b[0;32m      3\u001b[0m     \u001b[0mcurrentPosn\u001b[0m \u001b[1;33m+=\u001b[0m \u001b[1;36m3\u001b[0m\u001b[1;33m\u001b[0m\u001b[1;33m\u001b[0m\u001b[0m\n\u001b[0;32m      4\u001b[0m     \u001b[0mtypeId\u001b[0m \u001b[1;33m=\u001b[0m \u001b[0mint\u001b[0m\u001b[1;33m(\u001b[0m\u001b[1;34m''\u001b[0m\u001b[1;33m.\u001b[0m\u001b[0mjoin\u001b[0m\u001b[1;33m(\u001b[0m\u001b[0mbinList\u001b[0m\u001b[1;33m[\u001b[0m\u001b[0mcurrentPosn\u001b[0m\u001b[1;33m:\u001b[0m\u001b[0mcurrentPosn\u001b[0m \u001b[1;33m+\u001b[0m \u001b[1;36m3\u001b[0m\u001b[1;33m]\u001b[0m\u001b[1;33m)\u001b[0m\u001b[1;33m,\u001b[0m\u001b[1;36m2\u001b[0m\u001b[1;33m)\u001b[0m\u001b[1;33m\u001b[0m\u001b[1;33m\u001b[0m\u001b[0m\n\u001b[0;32m      5\u001b[0m     \u001b[0mcurrentPosn\u001b[0m \u001b[1;33m+=\u001b[0m \u001b[1;36m3\u001b[0m\u001b[1;33m\u001b[0m\u001b[1;33m\u001b[0m\u001b[0m\n",
      "\u001b[1;31mValueError\u001b[0m: invalid literal for int() with base 2: ''"
     ]
    }
   ],
   "source": [
    "binList = GetBinaryList(True)\n",
    "currentPosn = 0\n",
    "totalVersion = 0\n",
    "version, typeId, currentPosn = GetVersionAndTypeId(currentPosn, binList)\n",
    "totalVersion += version\n",
    "if typeId == '4': #Literal value\n",
    "    value, currentPosn = GetLiteralValue(currentPosn, binList)\n",
    "else:\n",
    "    lengthTypeId = binList[currentPosn]\n",
    "    currentPosn += 1\n",
    "    if lengthTypeId == '0':\n",
    "        bitLength = int(''.join(binList[currentPosn:currentPosn+15]),2)\n",
    "        currentPosn += 15\n",
    "        endLimit = currentPosn + bitLength\n",
    "        while(currentPosn < endLimit):\n",
    "            version, currentPosn = GetVersionTotal(currentPosn,binList)\n",
    "            totalVersion += version\n",
    "    else:\n",
    "        numberOfSubPackets = int(''.join(binList[currentPosn:currentPosn+11]),2)\n",
    "        currentPosn += 11\n",
    "        for i in range(numberOfSubPackets):\n",
    "            version, currentPosn = GetVersionTotal(currentPosn,binList)\n",
    "            totalVersion += version"
   ]
  },
  {
   "cell_type": "code",
   "execution_count": 56,
   "metadata": {},
   "outputs": [
    {
     "data": {
      "text/plain": [
       "'00000000001'"
      ]
     },
     "execution_count": 56,
     "metadata": {},
     "output_type": "execute_result"
    }
   ],
   "source": [
    "''.join(binList[currentPosn:currentPosn+11])"
   ]
  },
  {
   "cell_type": "code",
   "execution_count": 57,
   "metadata": {},
   "outputs": [
    {
     "data": {
      "text/plain": [
       "1"
      ]
     },
     "execution_count": 57,
     "metadata": {},
     "output_type": "execute_result"
    }
   ],
   "source": [
    "int(''.join(binList[currentPosn:currentPosn+11]),2)"
   ]
  }
 ],
 "metadata": {
  "interpreter": {
   "hash": "68e606b78b75ed559800afd6e8242558b6595b218eaa494473252c6ada250370"
  },
  "kernelspec": {
   "display_name": "Python 3.10.0 64-bit ('AoC2021_Day_16': virtualenv)",
   "language": "python",
   "name": "python3"
  },
  "language_info": {
   "codemirror_mode": {
    "name": "ipython",
    "version": 3
   },
   "file_extension": ".py",
   "mimetype": "text/x-python",
   "name": "python",
   "nbconvert_exporter": "python",
   "pygments_lexer": "ipython3",
   "version": "3.10.0"
  },
  "orig_nbformat": 4
 },
 "nbformat": 4,
 "nbformat_minor": 2
}
