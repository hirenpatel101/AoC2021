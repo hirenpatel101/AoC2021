{
 "cells": [
  {
   "cell_type": "code",
   "execution_count": 12,
   "metadata": {},
   "outputs": [],
   "source": [
    "def ReadFileIntoList(filename):\n",
    "    with open(filename) as file:\n",
    "        lines = file.readlines()\n",
    "        lines = [line.rstrip() for line in lines]\n",
    "    return lines\n",
    "\n",
    "input = ReadFileIntoList(\"input.txt\")"
   ]
  },
  {
   "cell_type": "code",
   "execution_count": 13,
   "metadata": {},
   "outputs": [],
   "source": [
    "import numpy as np\n",
    "initialState = [int(line) for line in input[0].split(',')]"
   ]
  },
  {
   "cell_type": "markdown",
   "metadata": {},
   "source": [
    "# Solution 1 + 2"
   ]
  },
  {
   "cell_type": "code",
   "execution_count": 14,
   "metadata": {},
   "outputs": [
    {
     "data": {
      "text/plain": [
       "1639854996917"
      ]
     },
     "execution_count": 14,
     "metadata": {},
     "output_type": "execute_result"
    }
   ],
   "source": [
    "fishes = initialState.copy()\n",
    "days = 256\n",
    "countOfFishes = [0]*9\n",
    "for i in fishes:\n",
    "    countOfFishes[i]+=1\n",
    "for day in range(days):\n",
    "    temp = countOfFishes[0]\n",
    "    for i in range(len(countOfFishes)):\n",
    "        if i == 8:\n",
    "            countOfFishes[i] = temp\n",
    "            continue\n",
    "        if i == 6:\n",
    "            countOfFishes[i] = countOfFishes[i+1] + temp\n",
    "            continue\n",
    "        countOfFishes[i] = countOfFishes[i+1]\n",
    "np.sum(countOfFishes)"
   ]
  }
 ],
 "metadata": {
  "interpreter": {
   "hash": "112eccffa1f373bf2f9f1943e5e8e3ceea8eebc5f9b0370751aa9066e8ae6a03"
  },
  "kernelspec": {
   "display_name": "Python 3.10.0 64-bit ('AoC2021_Day_6': virtualenv)",
   "language": "python",
   "name": "python3"
  },
  "language_info": {
   "codemirror_mode": {
    "name": "ipython",
    "version": 3
   },
   "file_extension": ".py",
   "mimetype": "text/x-python",
   "name": "python",
   "nbconvert_exporter": "python",
   "pygments_lexer": "ipython3",
   "version": "3.10.0"
  },
  "orig_nbformat": 4
 },
 "nbformat": 4,
 "nbformat_minor": 2
}
