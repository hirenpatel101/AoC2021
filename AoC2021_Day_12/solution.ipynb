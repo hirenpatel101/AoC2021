{
 "cells": [
  {
   "cell_type": "code",
   "execution_count": 1,
   "metadata": {},
   "outputs": [],
   "source": [
    "def ReadFileIntoList(testFile = False):\n",
    "    filename = 'input.txt'\n",
    "    if testFile:\n",
    "        filename = 'test.txt'\n",
    "    with open(filename) as file:\n",
    "        lines = file.readlines()\n",
    "        lines = [line.rstrip() for line in lines]\n",
    "    return lines"
   ]
  },
  {
   "cell_type": "code",
   "execution_count": 2,
   "metadata": {},
   "outputs": [],
   "source": [
    "import pandas as pd\n",
    "from collections import Counter"
   ]
  },
  {
   "cell_type": "code",
   "execution_count": 3,
   "metadata": {},
   "outputs": [],
   "source": [
    "def GetRoutesDataFrame(testFile = False):\n",
    "    input = ReadFileIntoList(testFile)\n",
    "    fromList = [line.split('-')[0] for line in input]\n",
    "    toList = [line.split('-')[1] for line in input]\n",
    "    caves = fromList + toList\n",
    "    caveList = list(set(caves))\n",
    "    routes = []\n",
    "    for i in range(len(caveList)):\n",
    "        routes.append([False] * len(caveList))\n",
    "    for src,dst in zip(fromList,toList):\n",
    "        srcIndex = caveList.index(src)\n",
    "        dstIndex = caveList.index(dst)\n",
    "        routes[srcIndex][dstIndex] = True\n",
    "        routes[dstIndex][srcIndex] = True\n",
    "    df = pd.DataFrame(routes,index=caveList,columns=caveList)\n",
    "    return df"
   ]
  },
  {
   "cell_type": "code",
   "execution_count": 4,
   "metadata": {},
   "outputs": [],
   "source": [
    "def CreateCaveRoutesDict(df, currentLocation, route = [], canVisitSmallCave = False):\n",
    "    cavesToGoTo = df.index[df.loc[currentLocation].values]\n",
    "    routeDict = {}\n",
    "    for cave in cavesToGoTo:\n",
    "        if cave == 'end':\n",
    "            routeDict['end'] = True\n",
    "            continue\n",
    "        if cave == 'start':\n",
    "            continue\n",
    "        if cave.islower() and cave in route:\n",
    "            if not canVisitSmallCave:\n",
    "                continue\n",
    "            #potentialRoute = route.copy()\n",
    "            #potentialRoute.append(cave)\n",
    "            smallCaves = [c for c in route if c not in ['start','end'] and c.islower()]\n",
    "            frequencies = list(Counter(smallCaves).values())\n",
    "            frequencies.sort(reverse=True)\n",
    "            if frequencies and frequencies[0] == 2:\n",
    "                continue\n",
    "        route.append(cave)\n",
    "        routeDict[cave] = CreateCaveRoutesDict(df,cave, route, canVisitSmallCave)\n",
    "        route.pop()\n",
    "    return routeDict"
   ]
  },
  {
   "cell_type": "code",
   "execution_count": 5,
   "metadata": {},
   "outputs": [],
   "source": [
    "def CreateCaveRouteList(df, currentLocation = 'start', canVisitSmallCaves = False):\n",
    "    caveRoutesDict = {currentLocation:CreateCaveRoutesDict(df,currentLocation,[currentLocation],canVisitSmallCaves)}\n",
    "    caveRouteDictList = pd.json_normalize(caveRoutesDict,sep='_').to_dict(orient='records')[0]\n",
    "    caveRouteList = []\n",
    "    for caveRoute in caveRouteDictList.keys():\n",
    "        caveRouteList.append(caveRoute.split('_'))\n",
    "    return caveRouteList"
   ]
  },
  {
   "cell_type": "markdown",
   "metadata": {},
   "source": [
    "# Solution 1"
   ]
  },
  {
   "cell_type": "code",
   "execution_count": 6,
   "metadata": {},
   "outputs": [
    {
     "name": "stdout",
     "output_type": "stream",
     "text": [
      "Answer is 3298\n"
     ]
    }
   ],
   "source": [
    "df = GetRoutesDataFrame()\n",
    "routeList = CreateCaveRouteList(df)\n",
    "smallCaves = [cave for cave in df.index if cave not in ['start','end'] and cave.islower()]\n",
    "smallCaveVisits = 0\n",
    "for route in routeList:\n",
    "    if [i for i in route if i in smallCaves]:\n",
    "        smallCaveVisits += 1\n",
    "print(\"Answer is\", smallCaveVisits)"
   ]
  },
  {
   "cell_type": "markdown",
   "metadata": {},
   "source": [
    "# Solution 2"
   ]
  },
  {
   "cell_type": "code",
   "execution_count": 7,
   "metadata": {},
   "outputs": [
    {
     "name": "stdout",
     "output_type": "stream",
     "text": [
      "Answer is 93572\n"
     ]
    }
   ],
   "source": [
    "df = GetRoutesDataFrame()\n",
    "routeList = CreateCaveRouteList(df,canVisitSmallCaves=True)\n",
    "\n",
    "print(\"Answer is\", len(routeList))"
   ]
  }
 ],
 "metadata": {
  "interpreter": {
   "hash": "a8189240f6fc8f67564117d93c73019e991ccc2d12d90462ed6a416a69bde9b6"
  },
  "kernelspec": {
   "display_name": "Python 3.10.0 64-bit ('AoC2021_Day_12': virtualenv)",
   "language": "python",
   "name": "python3"
  },
  "language_info": {
   "codemirror_mode": {
    "name": "ipython",
    "version": 3
   },
   "file_extension": ".py",
   "mimetype": "text/x-python",
   "name": "python",
   "nbconvert_exporter": "python",
   "pygments_lexer": "ipython3",
   "version": "3.10.0"
  },
  "orig_nbformat": 4
 },
 "nbformat": 4,
 "nbformat_minor": 2
}
