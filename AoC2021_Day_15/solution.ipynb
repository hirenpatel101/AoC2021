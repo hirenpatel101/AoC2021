{
 "cells": [
  {
   "cell_type": "code",
   "execution_count": 1,
   "metadata": {},
   "outputs": [],
   "source": [
    "def ReadFileIntoList(testFile = False):\n",
    "    filename = 'input.txt'\n",
    "    if testFile:\n",
    "        filename = 'test.txt'\n",
    "    with open(filename) as file:\n",
    "        lines = file.readlines()\n",
    "        lines = [line.rstrip() for line in lines]\n",
    "    return lines"
   ]
  },
  {
   "cell_type": "code",
   "execution_count": 2,
   "metadata": {},
   "outputs": [],
   "source": [
    "import numpy as np"
   ]
  },
  {
   "cell_type": "code",
   "execution_count": 3,
   "metadata": {},
   "outputs": [],
   "source": [
    "def GetSurroundingCells(row, col, rows,cols):\n",
    "    changes = [(-1,0),(0,-1),(0,1),(1,0)]\n",
    "    cells = []\n",
    "    for dR,dC in changes:\n",
    "        cellR = row + dR\n",
    "        cellC = col + dC\n",
    "        if 0<=cellR<rows and 0<=cellC<cols:\n",
    "            cells.append((cellR,cellC))\n",
    "    return cells"
   ]
  },
  {
   "cell_type": "code",
   "execution_count": 4,
   "metadata": {},
   "outputs": [],
   "source": [
    "def CreateArray(testFile = False):\n",
    "    input = ReadFileIntoList(testFile)\n",
    "    array = [[int(letter) for letter in line] for line in input]\n",
    "    return np.array(array)"
   ]
  },
  {
   "cell_type": "code",
   "execution_count": 5,
   "metadata": {},
   "outputs": [],
   "source": [
    "def CreateLargerArray(testFile = False, timesLarger = 5):\n",
    "    input = ReadFileIntoList(testFile)\n",
    "    array = [[int(letter) for letter in line] for line in input]\n",
    "    rows = len(array)\n",
    "    cols = len(array[0])\n",
    "    largerArray = []\n",
    "    for rowMultiplier in range(timesLarger):\n",
    "        baseRow = rows * rowMultiplier\n",
    "        for row in range(rows):\n",
    "            largerArray.append([0] * (cols * timesLarger))\n",
    "        for colMultiplier in range(timesLarger):\n",
    "            baseCol = cols * colMultiplier\n",
    "            for row in range(rows):\n",
    "                for col in range(cols):\n",
    "                    largerArray[baseRow + row][baseCol + col] = array[row][col]\n",
    "                    if rowMultiplier > 0 or colMultiplier > 0:\n",
    "                        sum = (array[row][col] + (rowMultiplier+colMultiplier)) % 9\n",
    "                        if sum == 0:\n",
    "                            sum = 9\n",
    "                        largerArray[baseRow + row][baseCol + col] = sum\n",
    "    return np.array(largerArray)"
   ]
  },
  {
   "cell_type": "code",
   "execution_count": 6,
   "metadata": {},
   "outputs": [],
   "source": [
    "def CreateUnvistedArray(array):\n",
    "    rows = len(array)\n",
    "    cols = len(array[0])\n",
    "    unvisitedArray = []\n",
    "    for row in range(rows):\n",
    "        unvisitedArray.append([False] * cols)\n",
    "    return np.array(unvisitedArray)\n"
   ]
  },
  {
   "cell_type": "code",
   "execution_count": 7,
   "metadata": {},
   "outputs": [],
   "source": [
    "def CreateDistanceArray(array):\n",
    "    rows = len(array)\n",
    "    cols = len(array[0])\n",
    "    distanceArray = []\n",
    "    for row in range(rows):\n",
    "        distanceArray.append([np.inf] * cols)\n",
    "    distanceArray[0][0] = 0\n",
    "    return np.array(distanceArray)"
   ]
  },
  {
   "cell_type": "markdown",
   "metadata": {},
   "source": [
    "# Solution 1"
   ]
  },
  {
   "cell_type": "code",
   "execution_count": 8,
   "metadata": {},
   "outputs": [
    {
     "name": "stdout",
     "output_type": "stream",
     "text": [
      "Answer is 790.0\n"
     ]
    }
   ],
   "source": [
    "array = CreateArray()\n",
    "unvisitedArray = CreateUnvistedArray(array)\n",
    "distanceArray = CreateDistanceArray(array)\n",
    "rows = len(array)\n",
    "cols = len(array[0])\n",
    "nodes = rows * cols\n",
    "destNodeRow = rows - 1\n",
    "destNodeCol = cols - 1\n",
    "cRow = 0\n",
    "cCol = 0\n",
    "reachedDest = False\n",
    "potentialCoords = {}\n",
    "\n",
    "while(not reachedDest):\n",
    "    currentDistance = distanceArray[cRow][cCol]\n",
    "    surroundingCells = GetSurroundingCells(cRow,cCol,rows, cols)\n",
    "    smallestDistance = np.inf\n",
    "\n",
    "    for sRow,sCol in surroundingCells:\n",
    "        if unvisitedArray[sRow][sCol]:\n",
    "            continue\n",
    "        edgeDistance = array[sRow][sCol]\n",
    "        totalDistance = currentDistance + edgeDistance\n",
    "        if totalDistance < distanceArray[sRow][sCol]:\n",
    "            distanceArray[sRow][sCol] = totalDistance\n",
    "            potentialCoords[(sRow,sCol)] = True\n",
    "\n",
    "    unvisitedArray[cRow][cCol] = True\n",
    "\n",
    "    if potentialCoords.get((cRow,cCol), -1) != -1:\n",
    "        del potentialCoords[(cRow,cCol)]\n",
    "\n",
    "    for pRow, pCol in potentialCoords:\n",
    "        if distanceArray[pRow][pCol] < smallestDistance:\n",
    "            smallestDistance = distanceArray[pRow][pCol]\n",
    "            nRow = pRow\n",
    "            nCol = pCol\n",
    "\n",
    "    cRow = nRow\n",
    "    cCol = nCol\n",
    "    if unvisitedArray[destNodeRow][destNodeCol]:\n",
    "        reachedDest = True\n",
    "\n",
    "answer = distanceArray[destNodeRow][destNodeCol]\n",
    "print(\"Answer is\",answer)"
   ]
  },
  {
   "cell_type": "markdown",
   "metadata": {},
   "source": [
    "# Solution 2"
   ]
  },
  {
   "cell_type": "code",
   "execution_count": 9,
   "metadata": {},
   "outputs": [
    {
     "name": "stdout",
     "output_type": "stream",
     "text": [
      "Answer is 2998.0\n"
     ]
    }
   ],
   "source": [
    "array = CreateLargerArray()\n",
    "unvisitedArray = CreateUnvistedArray(array)\n",
    "distanceArray = CreateDistanceArray(array)\n",
    "rows = len(array)\n",
    "cols = len(array[0])\n",
    "nodes = rows * cols\n",
    "destNodeRow = rows - 1\n",
    "destNodeCol = cols - 1\n",
    "cRow = 0\n",
    "cCol = 0\n",
    "reachedDest = False\n",
    "potentialCoords = {}\n",
    "\n",
    "while(not reachedDest):\n",
    "    currentDistance = distanceArray[cRow][cCol]\n",
    "    surroundingCells = GetSurroundingCells(cRow,cCol,rows, cols)\n",
    "    smallestDistance = np.inf\n",
    "\n",
    "    for sRow,sCol in surroundingCells:\n",
    "        if unvisitedArray[sRow][sCol]:\n",
    "            continue\n",
    "        edgeDistance = array[sRow][sCol]\n",
    "        totalDistance = currentDistance + edgeDistance\n",
    "        if totalDistance < distanceArray[sRow][sCol]:\n",
    "            distanceArray[sRow][sCol] = totalDistance\n",
    "            potentialCoords[(sRow,sCol)] = True\n",
    "\n",
    "    unvisitedArray[cRow][cCol] = True\n",
    "\n",
    "    if potentialCoords.get((cRow,cCol), -1) != -1:\n",
    "        del potentialCoords[(cRow,cCol)]\n",
    "\n",
    "    for pRow, pCol in potentialCoords:\n",
    "        if distanceArray[pRow][pCol] < smallestDistance:\n",
    "            smallestDistance = distanceArray[pRow][pCol]\n",
    "            nRow = pRow\n",
    "            nCol = pCol\n",
    "\n",
    "    cRow = nRow\n",
    "    cCol = nCol\n",
    "    if unvisitedArray[destNodeRow][destNodeCol]:\n",
    "        reachedDest = True\n",
    "\n",
    "answer = distanceArray[destNodeRow][destNodeCol]\n",
    "print(\"Answer is\",answer)"
   ]
  }
 ],
 "metadata": {
  "interpreter": {
   "hash": "2532fd74cabb13b3ce6766dbfc484c9e514bc6a25437430c35d449f9445497dc"
  },
  "kernelspec": {
   "display_name": "Python 3.10.0 64-bit ('AoC2021_Day_15': virtualenv)",
   "language": "python",
   "name": "python3"
  },
  "language_info": {
   "codemirror_mode": {
    "name": "ipython",
    "version": 3
   },
   "file_extension": ".py",
   "mimetype": "text/x-python",
   "name": "python",
   "nbconvert_exporter": "python",
   "pygments_lexer": "ipython3",
   "version": "3.10.0"
  },
  "orig_nbformat": 4
 },
 "nbformat": 4,
 "nbformat_minor": 2
}
