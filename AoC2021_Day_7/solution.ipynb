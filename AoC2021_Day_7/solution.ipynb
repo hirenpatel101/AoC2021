{
 "cells": [
  {
   "cell_type": "code",
   "execution_count": 72,
   "metadata": {},
   "outputs": [],
   "source": [
    "def ReadFileIntoList(filename):\n",
    "    with open(filename) as file:\n",
    "        lines = file.readlines()\n",
    "        lines = [line.rstrip() for line in lines]\n",
    "    return lines\n",
    "\n",
    "input = ReadFileIntoList(\"input.txt\")"
   ]
  },
  {
   "cell_type": "code",
   "execution_count": 2,
   "metadata": {},
   "outputs": [],
   "source": [
    "import numpy as np"
   ]
  },
  {
   "cell_type": "code",
   "execution_count": 74,
   "metadata": {},
   "outputs": [],
   "source": [
    "horizontalPosns = [int(number) for number in input[0].split(',')]"
   ]
  },
  {
   "cell_type": "code",
   "execution_count": 65,
   "metadata": {},
   "outputs": [],
   "source": [
    "def FuelNeededForMiddle(middle, horizontalPosns, constantFuel = True):\n",
    "    fuelNeeded = []\n",
    "    print(\"Trying with middle of\",middle)\n",
    "    for i in range(len(horizontalPosns)):\n",
    "        if middle > horizontalPosns[i]:\n",
    "            fuelUsed = middle - horizontalPosns[i]\n",
    "        else:\n",
    "            fuelUsed = horizontalPosns[i] - middle\n",
    "        if constantFuel:\n",
    "            fuelNeeded.append(fuelUsed)\n",
    "        else:\n",
    "            fuelNeeded.append(np.sum(range(int(fuelUsed),0,-1)))\n",
    "    totalFuelNeeded = np.sum(fuelNeeded)\n",
    "    return totalFuelNeeded"
   ]
  },
  {
   "cell_type": "markdown",
   "metadata": {},
   "source": [
    "# Solution 1"
   ]
  },
  {
   "cell_type": "code",
   "execution_count": 76,
   "metadata": {},
   "outputs": [
    {
     "name": "stdout",
     "output_type": "stream",
     "text": [
      "Trying with middle of 361.0\n",
      "Answer is 356922.0\n"
     ]
    }
   ],
   "source": [
    "medianPosn = np.median(horizontalPosns)\n",
    "ans = FuelNeededForMiddle(medianPosn, horizontalPosns)\n",
    "print(f\"Answer is {ans}\")"
   ]
  },
  {
   "cell_type": "markdown",
   "metadata": {},
   "source": [
    "# Solution 2"
   ]
  },
  {
   "cell_type": "code",
   "execution_count": 80,
   "metadata": {},
   "outputs": [
    {
     "name": "stdout",
     "output_type": "stream",
     "text": [
      "Trying with middle of 491.0\n",
      "Trying with middle of 490.0\n",
      "Answer is 100347031\n"
     ]
    }
   ],
   "source": [
    "meanPosn = np.mean(horizontalPosns)\n",
    "highPosn = np.ceil(meanPosn)\n",
    "lowPosn = np.floor(meanPosn)\n",
    "highPosnAns = FuelNeededForMiddle(highPosn,horizontalPosns,False)\n",
    "lowPosnAns = FuelNeededForMiddle(lowPosn,horizontalPosns,False)\n",
    "print(f\"Answer is {highPosnAns if highPosnAns < lowPosnAns else lowPosnAns}\")"
   ]
  }
 ],
 "metadata": {
  "interpreter": {
   "hash": "53c085a40fa3225bd25850b55766bfbd54fa4ea345808d42103c0dd84bfb9ef1"
  },
  "kernelspec": {
   "display_name": "Python 3.10.0 64-bit ('AoC2021_Day_7': virtualenv)",
   "language": "python",
   "name": "python3"
  },
  "language_info": {
   "codemirror_mode": {
    "name": "ipython",
    "version": 3
   },
   "file_extension": ".py",
   "mimetype": "text/x-python",
   "name": "python",
   "nbconvert_exporter": "python",
   "pygments_lexer": "ipython3",
   "version": "3.10.0"
  },
  "orig_nbformat": 4
 },
 "nbformat": 4,
 "nbformat_minor": 2
}
