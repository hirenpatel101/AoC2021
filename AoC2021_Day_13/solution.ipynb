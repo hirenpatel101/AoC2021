{
 "cells": [
  {
   "cell_type": "code",
   "execution_count": 1,
   "metadata": {},
   "outputs": [],
   "source": [
    "def ReadFileIntoList(testFile = False):\n",
    "    filename = 'input.txt'\n",
    "    if testFile:\n",
    "        filename = 'test.txt'\n",
    "    with open(filename) as file:\n",
    "        lines = file.readlines()\n",
    "        lines = [line.rstrip() for line in lines]\n",
    "    return lines"
   ]
  },
  {
   "cell_type": "code",
   "execution_count": 2,
   "metadata": {},
   "outputs": [],
   "source": [
    "import numpy as np"
   ]
  },
  {
   "cell_type": "code",
   "execution_count": 3,
   "metadata": {},
   "outputs": [],
   "source": [
    "def GetCoordsAndFoldInstructions(testFile = False):\n",
    "    input = ReadFileIntoList(testFile)\n",
    "    array = np.array(input)\n",
    "    blankLine = np.where(array == '')[0][0]\n",
    "    coords = [[int(line.split(',')[0]),int(line.split(',')[1])] for line in array[:blankLine]]\n",
    "    foldInstructions = array[blankLine+1:]\n",
    "    return coords, foldInstructions"
   ]
  },
  {
   "cell_type": "code",
   "execution_count": 4,
   "metadata": {},
   "outputs": [],
   "source": [
    "def GetStartingPaper(coords):\n",
    "    xMax = np.max([coord[0] for coord in coords]) + 1\n",
    "    yMax = np.max([coord[1] for coord in coords]) + 1\n",
    "    paper = []\n",
    "    for i in range(yMax):\n",
    "        paper.append([0]*xMax)\n",
    "    for x,y in coords:\n",
    "        paper[y][x] = 1\n",
    "    return np.array(paper)"
   ]
  },
  {
   "cell_type": "markdown",
   "metadata": {},
   "source": [
    "# Solution 1"
   ]
  },
  {
   "cell_type": "code",
   "execution_count": 5,
   "metadata": {},
   "outputs": [
    {
     "name": "stdout",
     "output_type": "stream",
     "text": [
      "Answer is 770\n"
     ]
    }
   ],
   "source": [
    "coords, foldInstructions = GetCoordsAndFoldInstructions(False)\n",
    "paper = GetStartingPaper(coords)\n",
    "\n",
    "for foldInstruction in [foldInstructions[0]]:\n",
    "    foldAxis = foldInstruction.split()[2].split('=')[0]\n",
    "    foldValue = int(foldInstruction.split()[2].split('=')[1])\n",
    "    splitCoords = np.where(paper == 1)\n",
    "    currentCoords = list(zip(list(splitCoords[1]),list(splitCoords[0])))\n",
    "    if foldAxis == 'y':\n",
    "        coordsToMove = [coord for coord in currentCoords if coord[1]>foldValue]\n",
    "    else:\n",
    "        coordsToMove = [coord for coord in currentCoords if coord[0]>foldValue]\n",
    "    for x,y in coordsToMove:\n",
    "        if foldAxis == 'y':\n",
    "            newY = foldValue - (y - foldValue)\n",
    "            paper[newY][x] = 1\n",
    "        else:\n",
    "            newX = foldValue - (x - foldValue)\n",
    "            paper[y][newX] = 1\n",
    "        paper[y][x] = 0\n",
    "answer = np.sum(paper)\n",
    "print(\"Answer is\",answer)"
   ]
  },
  {
   "cell_type": "markdown",
   "metadata": {},
   "source": [
    "# Solution 2"
   ]
  },
  {
   "cell_type": "code",
   "execution_count": 7,
   "metadata": {},
   "outputs": [],
   "source": [
    "coords, foldInstructions = GetCoordsAndFoldInstructions(False)\n",
    "paper = GetStartingPaper(coords)\n",
    "lastX = 0\n",
    "lastY = 0\n",
    "for foldInstruction in foldInstructions:\n",
    "    foldAxis = foldInstruction.split()[2].split('=')[0]\n",
    "    foldValue = int(foldInstruction.split()[2].split('=')[1])\n",
    "    splitCoords = np.where(paper == 1)\n",
    "    currentCoords = list(zip(list(splitCoords[1]),list(splitCoords[0])))\n",
    "    if foldAxis == 'y':\n",
    "        coordsToMove = [coord for coord in currentCoords if coord[1]>foldValue]\n",
    "    else:\n",
    "        coordsToMove = [coord for coord in currentCoords if coord[0]>foldValue]\n",
    "    for x,y in coordsToMove:\n",
    "        if foldAxis == 'y':\n",
    "            newY = foldValue - (y - foldValue)\n",
    "            paper[newY][x] = 1\n",
    "            lastY = foldValue\n",
    "        else:\n",
    "            newX = foldValue - (x - foldValue)\n",
    "            paper[y][newX] = 1\n",
    "            lastX = foldValue\n",
    "        paper[y][x] = 0\n",
    "newPaper = [[' ' if el == 0 else '#' for el in line] for line in paper[:lastY,:lastX]]\n",
    "with open(\"answer.txt\",'w') as file:\n",
    "    for line in newPaper:\n",
    "        file.write(str(line) + '\\n')"
   ]
  }
 ],
 "metadata": {
  "interpreter": {
   "hash": "fd4d90427564b5c0ee3a552b364e4b7ef34e3bab591566692e7f8ed4223caa0f"
  },
  "kernelspec": {
   "display_name": "Python 3.10.0 64-bit ('AoC2021_Day_13': virtualenv)",
   "language": "python",
   "name": "python3"
  },
  "language_info": {
   "codemirror_mode": {
    "name": "ipython",
    "version": 3
   },
   "file_extension": ".py",
   "mimetype": "text/x-python",
   "name": "python",
   "nbconvert_exporter": "python",
   "pygments_lexer": "ipython3",
   "version": "3.10.0"
  },
  "orig_nbformat": 4
 },
 "nbformat": 4,
 "nbformat_minor": 2
}
